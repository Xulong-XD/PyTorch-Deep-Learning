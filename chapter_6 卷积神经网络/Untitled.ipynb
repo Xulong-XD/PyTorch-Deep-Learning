{
 "cells": [
  {
   "cell_type": "code",
   "execution_count": 1,
   "id": "caabeb9c",
   "metadata": {},
   "outputs": [],
   "source": [
    "import torch\n",
    "import torchvision\n",
    "from torchvision import transforms\n",
    "from torchvision import datasets "
   ]
  },
  {
   "cell_type": "code",
   "execution_count": 2,
   "id": "91445b72",
   "metadata": {},
   "outputs": [],
   "source": [
    "data_train = datasets.FashionMNIST(root='../data', \n",
    "                            transform=transforms.Compose([transforms.ToTensor()]),\n",
    "                           train=True, download=True)\n",
    "data_test = datasets.FashionMNIST(root='../data/', \n",
    "                            transform=transforms.Compose([transforms.ToTensor()]),\n",
    "                           train=False, download=True)"
   ]
  },
  {
   "cell_type": "code",
   "execution_count": 4,
   "id": "a550b64d",
   "metadata": {},
   "outputs": [],
   "source": [
    "data_loader_train = torch.utils.data.DataLoader(dataset=data_train, batch_size=256, shuffle=True)\n",
    "data_loader_test = torch.utils.data.DataLoader(dataset=data_test, batch_size=256, shuffle=True)"
   ]
  },
  {
   "cell_type": "code",
   "execution_count": 5,
   "id": "9f29e944",
   "metadata": {},
   "outputs": [],
   "source": [
    "class CNN_Model(torch.nn.Module):\n",
    "    def __init__(self):\n",
    "        super(CNN_Model, self).__init__()\n",
    "        self.conv1 = torch.nn.Sequential(\n",
    "            torch.nn.Conv2d(1, 6, kernel_size=5, padding=2),\n",
    "            \n",
    "            torch.nn.Sigmoid(),\n",
    "            torch.nn.AvgPool2d(stride=2,kernel_size=2))\n",
    "        \n",
    "        self.conv2=torch.nn.Sequential(\n",
    "            torch.nn.Conv2d(6, 16, kernel_size=5),\n",
    "            \n",
    "            torch.nn.Sigmoid(),\n",
    "            torch.nn.AvgPool2d(stride=2, kernel_size=2))\n",
    "        \n",
    "        self.dense = torch.nn.Sequential(\n",
    "            torch.nn.Flatten(),\n",
    "            torch.nn.Linear(16 * 5 * 5, 120),\n",
    "            torch.nn.Sigmoid(),\n",
    "            \n",
    "            torch.nn.Linear(120, 84),\n",
    "            torch.nn.Sigmoid(),\n",
    "            torch.nn.Linear(84, 10))\n",
    "        \n",
    "    # 前向传播\n",
    "    def forward(self, x):\n",
    "        x1 = self.conv1(x)\n",
    "        x2 = self.conv2(x1)\n",
    "        \n",
    "        x = self.dense(x2)\n",
    "        return x"
   ]
  },
  {
   "cell_type": "code",
   "execution_count": 6,
   "id": "a241b68f",
   "metadata": {},
   "outputs": [],
   "source": [
    "# 模型实例化\n",
    "cnn_model = CNN_Model()\n",
    "\n",
    "# 构造损失函数\n",
    "loss_func = torch.nn.CrossEntropyLoss()\n",
    "\n",
    "learning_rate = 0.001\n",
    "num_epochs = 10\n",
    "batch_size = 256\n",
    "\n",
    "\n",
    "# 构建优化器\n",
    "optimizer = torch.optim.Adam(cnn_model.parameters(), lr=learning_rate)"
   ]
  },
  {
   "cell_type": "code",
   "execution_count": 7,
   "id": "d38fca5c",
   "metadata": {},
   "outputs": [
    {
     "data": {
      "text/plain": [
       "CNN_Model(\n",
       "  (conv1): Sequential(\n",
       "    (0): Conv2d(1, 6, kernel_size=(5, 5), stride=(1, 1), padding=(2, 2))\n",
       "    (1): Sigmoid()\n",
       "    (2): AvgPool2d(kernel_size=2, stride=2, padding=0)\n",
       "  )\n",
       "  (conv2): Sequential(\n",
       "    (0): Conv2d(6, 16, kernel_size=(5, 5), stride=(1, 1))\n",
       "    (1): Sigmoid()\n",
       "    (2): AvgPool2d(kernel_size=2, stride=2, padding=0)\n",
       "  )\n",
       "  (dense): Sequential(\n",
       "    (0): Flatten(start_dim=1, end_dim=-1)\n",
       "    (1): Linear(in_features=400, out_features=120, bias=True)\n",
       "    (2): Sigmoid()\n",
       "    (3): Linear(in_features=120, out_features=84, bias=True)\n",
       "    (4): Sigmoid()\n",
       "    (5): Linear(in_features=84, out_features=10, bias=True)\n",
       "  )\n",
       ")"
      ]
     },
     "execution_count": 7,
     "metadata": {},
     "output_type": "execute_result"
    }
   ],
   "source": [
    "device = torch.device('cuda:0' if torch.cuda.is_available() else 'cpu')\n",
    "\n",
    "cnn_model.to(device)"
   ]
  },
  {
   "cell_type": "code",
   "execution_count": 15,
   "id": "185a0cd0",
   "metadata": {},
   "outputs": [
    {
     "name": "stdout",
     "output_type": "stream",
     "text": [
      "Epoch 0/10\n",
      "accuracy is 0.3388499915599823\n",
      "Epoch 1/10\n",
      "accuracy is 0.6506666541099548\n",
      "Epoch 2/10\n",
      "accuracy is 0.7266833186149597\n",
      "Epoch 3/10\n",
      "accuracy is 0.750083327293396\n",
      "Epoch 4/10\n",
      "accuracy is 0.7719500064849854\n",
      "Epoch 5/10\n",
      "accuracy is 0.7887833714485168\n",
      "Epoch 6/10\n",
      "accuracy is 0.8055333495140076\n",
      "Epoch 7/10\n",
      "accuracy is 0.8179166913032532\n",
      "Epoch 8/10\n",
      "accuracy is 0.8249499797821045\n",
      "Epoch 9/10\n",
      "accuracy is 0.8323000073432922\n"
     ]
    }
   ],
   "source": [
    "# 训练过程\n",
    "for epoch in range(num_epochs):\n",
    "    running_loss = 0.0\n",
    "    running_correct = 0.0\n",
    "    print('Epoch {}/{}'.format(epoch, num_epochs))\n",
    "    for inputs, labels in data_loader_train:\n",
    "        inputs = inputs.to(device)\n",
    "        labels = labels.to(device) \n",
    "        \n",
    "        optimizer.zero_grad()\n",
    "        \n",
    "        outputs = cnn_model(inputs)\n",
    "        \n",
    "        loss = loss_func(outputs, labels)\n",
    "        \n",
    "        \n",
    "        loss.backward()\n",
    "        optimizer.step()\n",
    "        \n",
    "        _,  pred = torch.max(outputs.data, 1)\n",
    "\n",
    "        running_loss += loss\n",
    "        running_correct += torch.sum(pred == labels)\n",
    "    print(f'accuracy is {running_correct / len(data_train)}')"
   ]
  },
  {
   "cell_type": "code",
   "execution_count": null,
   "id": "61901ff9",
   "metadata": {},
   "outputs": [],
   "source": []
  }
 ],
 "metadata": {
  "kernelspec": {
   "display_name": "pytorch",
   "language": "python",
   "name": "pytorch"
  },
  "language_info": {
   "codemirror_mode": {
    "name": "ipython",
    "version": 3
   },
   "file_extension": ".py",
   "mimetype": "text/x-python",
   "name": "python",
   "nbconvert_exporter": "python",
   "pygments_lexer": "ipython3",
   "version": "3.8.13"
  }
 },
 "nbformat": 4,
 "nbformat_minor": 5
}
