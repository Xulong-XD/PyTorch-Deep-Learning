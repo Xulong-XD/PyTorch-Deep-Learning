{
 "cells": [
  {
   "cell_type": "markdown",
   "id": "e77624b9",
   "metadata": {},
   "source": [
    "# softmax回归从零开始实现\n",
    "我们首先直接使用d2l中封装的load_data_fashion_mnist构建数据集迭代器，并设置batch_size=256："
   ]
  },
  {
   "cell_type": "code",
   "execution_count": 34,
   "id": "b2a6f1f8",
   "metadata": {},
   "outputs": [],
   "source": [
    "import torch\n",
    "from d2l import torch as d2l\n",
    "import warnings\n",
    "import torchvision\n",
    "from torchvision import transforms\n",
    "from torch.utils import data\n",
    "warnings.filterwarnings('ignore')\n"
   ]
  },
  {
   "cell_type": "code",
   "execution_count": 35,
   "id": "d2c59cc7",
   "metadata": {},
   "outputs": [],
   "source": [
    "batch_size = 256\n",
    "def load_data_fashion_mnist(batch_size, resize=None):\n",
    "    trans = [transforms.ToTensor()]\n",
    "    if resize:\n",
    "        trans.insert(0, transforms.Resize(resize))\n",
    "    trans = transforms.Compose(trans)\n",
    "    mnist_train = torchvision.datasets.FashionMNIST(\n",
    "        root='../data', train=True, transform=trans, download= True)\n",
    "    mnist_test = torchvision.datasets.FashionMNIST(\n",
    "        root=\"../data\", train=False, transform=trans, download=True)\n",
    "    return (data.DataLoader(mnist_train, batch_size, shuffle=True, num_workers=0),\n",
    "            data.DataLoader(mnist_test, batch_size, shuffle=True, num_workers=0))\n",
    "train_iter, test_iter = load_data_fashion_mnist(batch_size)"
   ]
  },
  {
   "cell_type": "markdown",
   "id": "1d34d8e2",
   "metadata": {},
   "source": [
    "# 初始化模型参数\n",
    "和之前线性回归的例子一样，这里的每个样本都将用固定长度的向量表示。\n",
    "原始数据集中的每个样本都是$28 \\times 28$的图像。\n",
    "在本节中，我们[**将展平每个图像，把它们看作长度为784的向量。**]\n",
    "\n",
    "在softmax回归中，我们的输出与类别一样多。\n",
    "(**因为我们的数据集有10个类别，所以网络输出维度为10**)。\n",
    "因此，权重将构成一个$784 \\times 10$的矩阵，\n",
    "偏置将构成一个$1 \\times 10$的行向量。\n",
    "与线性回归一样，我们将使用正态分布初始化我们的权重`W`，偏置初始化为0。"
   ]
  },
  {
   "cell_type": "code",
   "execution_count": 54,
   "id": "6ac15421",
   "metadata": {},
   "outputs": [],
   "source": [
    "num_inputs = 784\n",
    "num_outputs = 10\n",
    "W = torch.normal(0, 0.01, size=(num_inputs, num_outputs), requires_grad=True)\n",
    "b = torch.zeros(num_outputs, requires_grad=True)"
   ]
  },
  {
   "cell_type": "markdown",
   "id": "f5d905d4",
   "metadata": {},
   "source": [
    "# 定义softmax操作\n",
    "在实现softmax回归模型之前，我们先回归一下sum运算符如何沿着张量中的特定维度工作：给定一个矩阵X，我们可以对其所有元素求和（默认情况下），也可以只求同一个轴上的元素之和。"
   ]
  },
  {
   "cell_type": "code",
   "execution_count": 37,
   "id": "76ba4427",
   "metadata": {},
   "outputs": [
    {
     "data": {
      "text/plain": [
       "(tensor(21.),\n",
       " tensor([[5., 7., 9.]]),\n",
       " tensor([[ 6.],\n",
       "         [15.]]))"
      ]
     },
     "execution_count": 37,
     "metadata": {},
     "output_type": "execute_result"
    }
   ],
   "source": [
    "X = torch.tensor([[1.0, 2.0, 3.0], \n",
    "                  [4.0, 5.0, 6.0]])\n",
    "X.sum(), X.sum(axis=0, keepdim=True), X.sum(axis=1, keepdim=True)"
   ]
  },
  {
   "cell_type": "markdown",
   "id": "4b4c35df",
   "metadata": {},
   "source": [
    "回想一下，[**实现softmax**]由三个步骤组成：\n",
    "\n",
    "1. 对每个项求幂（使用`exp`）；\n",
    "1. 对每一行求和（小批量中每个样本是一行），得到每个样本的规范化常数；\n",
    "1. 将每一行除以其规范化常数，确保结果的和为1。\n",
    "\n",
    "在查看代码之前，我们回顾一下这个表达式：\n",
    "\n",
    "(**\n",
    "$$\n",
    "\\mathrm{softmax}(\\mathbf{X})_{ij} = \\frac{\\exp(\\mathbf{X}_{ij})}{\\sum_k \\exp(\\mathbf{X}_{ik})}.\n",
    "$$\n",
    "**)\n",
    "\n",
    "分母或规范化常数，有时也称为*配分函数*（其对数称为对数-配分函数）。\n"
   ]
  },
  {
   "cell_type": "code",
   "execution_count": 38,
   "id": "cc1cc72b",
   "metadata": {},
   "outputs": [],
   "source": [
    "def softmax(X):\n",
    "    X_exp = torch.exp(X)\n",
    "    partition = X_exp.sum(axis=1, keepdim=True)  # 每一行求和，每一行代表一个样本\n",
    "    return X_exp / partition  # 这里应用了广播机制"
   ]
  },
  {
   "cell_type": "markdown",
   "id": "2d0f54e8",
   "metadata": {},
   "source": [
    "下面举一个例子来验证softmax函数的有效性："
   ]
  },
  {
   "cell_type": "code",
   "execution_count": 39,
   "id": "78399ed5",
   "metadata": {},
   "outputs": [
    {
     "data": {
      "text/plain": [
       "(tensor([[0.4360, 0.0252, 0.4139, 0.0533, 0.0716],\n",
       "         [0.2226, 0.4860, 0.0793, 0.1048, 0.1073]]),\n",
       " tensor([[1.0000],\n",
       "         [1.0000]]))"
      ]
     },
     "execution_count": 39,
     "metadata": {},
     "output_type": "execute_result"
    }
   ],
   "source": [
    "X = torch.normal(0, 1, size=(2, 5))\n",
    "X_prob = softmax(X)\n",
    "X_prob, X_prob.sum(axis=1, keepdim=True)"
   ]
  },
  {
   "cell_type": "markdown",
   "id": "d99d632e",
   "metadata": {},
   "source": [
    "注意，虽然这在数学上看起来是正确的，但我们在代码实现中有点草率。\n",
    "矩阵中的非常大或非常小的元素可能造成数值上溢或下溢，但我们没有采取措施来防止这点。\n",
    "\n",
    "## 定义模型\n",
    "\n",
    "定义softmax操作后，我们可以[**实现softmax回归模型**]。\n",
    "下面的代码定义了输入如何通过网络映射到输出。\n",
    "注意，将数据传递到模型之前，我们使用`reshape`函数将每张原始图像展平为向量。"
   ]
  },
  {
   "cell_type": "code",
   "execution_count": 40,
   "id": "27ac5a90",
   "metadata": {},
   "outputs": [],
   "source": [
    "def net(X):\n",
    "    y = torch.matmul(X.reshape(-1, W.shape[0]), W) + b\n",
    "    return softmax(y)"
   ]
  },
  {
   "cell_type": "markdown",
   "id": "f2228435",
   "metadata": {},
   "source": [
    "# 定义损失函数\n",
    "我们的输入是预测概率y_hat和原始标签y，假设batch_size，那么y_hat是一个batch_size * num_outputs的矩阵，而y是一个1 * batch_size的向量。我们需要将每个样本标签对应的预测概率拿出来：使用的方法是，将标签作为索引"
   ]
  },
  {
   "cell_type": "code",
   "execution_count": 41,
   "id": "ecf83927",
   "metadata": {},
   "outputs": [
    {
     "data": {
      "text/plain": [
       "(tensor([0.1000, 0.5000]), tensor([2, 2]), tensor([2, 2]))"
      ]
     },
     "execution_count": 41,
     "metadata": {},
     "output_type": "execute_result"
    }
   ],
   "source": [
    "y_hat = torch.tensor([[0.1, 0.3, 0.6], [0.2, 0.3, 0.5]])\n",
    "y = torch.tensor([0, 2])\n",
    "y_hat[[0, 1], y], torch.argmax(y_hat, axis=1), y_hat.argmax(axis=1)"
   ]
  },
  {
   "cell_type": "code",
   "execution_count": 42,
   "id": "8cca1e8f",
   "metadata": {},
   "outputs": [
    {
     "data": {
      "text/plain": [
       "tensor([2.3026, 0.6931])"
      ]
     },
     "execution_count": 42,
     "metadata": {},
     "output_type": "execute_result"
    }
   ],
   "source": [
    "def cross_entropy(y_hat, y):\n",
    "    return -torch.log(y_hat[range(len(y_hat)), y])\n",
    "cross_entropy(y_hat, y)"
   ]
  },
  {
   "cell_type": "markdown",
   "id": "d038b325",
   "metadata": {},
   "source": [
    "# 分类精度\n",
    "为了计算精度，我们执行以下操作。\n",
    "首先，如果`y_hat`是矩阵，那么假定第二个维度存储每个类的预测分数。\n",
    "我们使用`argmax`获得每行中最大元素的索引来获得预测类别。\n",
    "然后我们[**将预测类别与真实`y`元素进行比较**]。\n",
    "由于等式运算符“`==`”对数据类型很敏感，\n",
    "因此我们将`y_hat`的数据类型转换为与`y`的数据类型一致。\n",
    "结果是一个包含0（错）和1（对）的张量。\n",
    "最后，我们求和会得到正确预测的数量。"
   ]
  },
  {
   "cell_type": "code",
   "execution_count": 43,
   "id": "c98a28cb",
   "metadata": {},
   "outputs": [],
   "source": [
    "def accuracy(y_hat, y):\n",
    "    # 如果y_hat是一个二维矩阵：\n",
    "    if len(y_hat) > 1 and y_hat.shape[1] > 1:\n",
    "        y_hat = torch.argmax(y_hat, axis=1)\n",
    "    cmp = y_hat.type(y.dtype) == y\n",
    "    return float(cmp.type(y.dtype).sum())"
   ]
  },
  {
   "cell_type": "code",
   "execution_count": 44,
   "id": "ddf283ba",
   "metadata": {},
   "outputs": [
    {
     "data": {
      "text/plain": [
       "0.5"
      ]
     },
     "execution_count": 44,
     "metadata": {},
     "output_type": "execute_result"
    }
   ],
   "source": [
    "accuracy(y_hat, y) / len(y)"
   ]
  },
  {
   "cell_type": "code",
   "execution_count": 45,
   "id": "39b06949",
   "metadata": {},
   "outputs": [],
   "source": [
    "def evaluate_accuracy(net, data_iter):\n",
    "    \"\"\"计算指定数据集上模型的精度\"\"\"\n",
    "    if isinstance(net, torch.nn.Module):\n",
    "        net.eval()\n",
    "    correct = 0  # 预测正确的样本数量\n",
    "    samples = 0  # 样本总数量\n",
    "    with torch.no_grad():\n",
    "        for X, y in data_iter:\n",
    "            y_hat = net(X)\n",
    "            correct += accuracy(y_hat, y)\n",
    "            samples += len(y)\n",
    "    return correct / samples"
   ]
  },
  {
   "cell_type": "code",
   "execution_count": 46,
   "id": "d082b618",
   "metadata": {},
   "outputs": [
    {
     "data": {
      "text/plain": [
       "0.12465"
      ]
     },
     "execution_count": 46,
     "metadata": {},
     "output_type": "execute_result"
    }
   ],
   "source": [
    "evaluate_accuracy(net, train_iter)"
   ]
  },
  {
   "cell_type": "code",
   "execution_count": 47,
   "id": "698f7e07",
   "metadata": {},
   "outputs": [],
   "source": [
    "def evaluate_accuracy1(net, data_iter):  #@save\n",
    "    \"\"\"计算在指定数据集上模型的精度\"\"\"\n",
    "    if isinstance(net, torch.nn.Module):\n",
    "        net.eval()  # 将模型设置为评估模式\n",
    "    metric = Accumulator(2)  # 正确预测数、预测总数\n",
    "    with torch.no_grad():\n",
    "        for X, y in data_iter:\n",
    "            metric.add(accuracy(net(X), y), y.numel())\n",
    "    return metric[0] / metric[1]"
   ]
  },
  {
   "cell_type": "code",
   "execution_count": 48,
   "id": "a8de4519",
   "metadata": {},
   "outputs": [],
   "source": [
    "class Accumulator:  #@save\n",
    "    \"\"\"在n个变量上累加\"\"\"\n",
    "    def __init__(self, n):\n",
    "        self.data = [0.0] * n\n",
    "\n",
    "    def add(self, *args):\n",
    "        self.data = [a + float(b) for a, b in zip(self.data, args)]\n",
    "\n",
    "    def reset(self):\n",
    "        self.data = [0.0] * len(self.data)\n",
    "\n",
    "    def __getitem__(self, idx):\n",
    "        return self.data[idx]"
   ]
  },
  {
   "cell_type": "code",
   "execution_count": 49,
   "id": "866cdb01",
   "metadata": {},
   "outputs": [
    {
     "data": {
      "text/plain": [
       "0.12465"
      ]
     },
     "execution_count": 49,
     "metadata": {},
     "output_type": "execute_result"
    }
   ],
   "source": [
    "evaluate_accuracy1(net, train_iter)"
   ]
  },
  {
   "cell_type": "markdown",
   "id": "4e533145",
   "metadata": {},
   "source": [
    "# 训练\n",
    "在这里，我们重构训练过程的实现以使其可重复使用。\n",
    "首先，我们定义一个函数来训练一个迭代周期。\n",
    "请注意，`updater`是更新模型参数的常用函数，它接受批量大小作为参数。\n",
    "它可以是`d2l.sgd`函数，也可以是框架的内置优化函数。\n"
   ]
  },
  {
   "cell_type": "code",
   "execution_count": 57,
   "id": "54cd7f6d",
   "metadata": {},
   "outputs": [],
   "source": [
    "def train_epoch_ch3(net, train_iter, loss, updater):\n",
    "    if isinstance(net, torch.nn.Module):\n",
    "        net.train()\n",
    "    loss_total = 0\n",
    "    correct = 0\n",
    "    samples =  0\n",
    "    for X, y in train_iter:\n",
    "        y_hat = net(X)\n",
    "        loss_batch = loss(y_hat, y)\n",
    "        if isinstance(updater, torch.optim.Optimizer):\n",
    "            # 使用pytorch内置的优化器和损失函数\n",
    "            updater.zero_grad()\n",
    "            loss_batch.mean().backward()\n",
    "            updater.step()\n",
    "        else:\n",
    "            # 使用自定义的优化器和损失函数\n",
    "            loss_batch.sum().backward()\n",
    "            updater(X.shape[0])\n",
    "            \n",
    "        loss_total += loss_batch.sum()\n",
    "        correct += accuracy(y_hat, y)\n",
    "        samples += X.shape[0]\n",
    "    return loss_total / samples, correct / samples"
   ]
  },
  {
   "cell_type": "code",
   "execution_count": 51,
   "id": "3bb5a72e",
   "metadata": {},
   "outputs": [],
   "source": [
    "def train_ch3(net, train_iter, test_iter, loss, updater, num_epochs):\n",
    "    for epoch in range(num_epochs):\n",
    "        loss_epoch_train, accuracy_epoch_train = train_epoch_ch3(net, train_iter, \n",
    "                                                     loss, updater)\n",
    "        accuracy_epoch_test = evaluate_accuracy(net, test_iter)\n",
    "        print(f'loss in epoch {epoch + 1}: {loss_epoch_train}, accuracy in epoch {epoch + 1}: {accuracy_epoch_train}')"
   ]
  },
  {
   "cell_type": "code",
   "execution_count": 58,
   "id": "a7c7033c",
   "metadata": {},
   "outputs": [],
   "source": [
    "lr = 0.1\n",
    "\n",
    "def updater(batch_size):\n",
    "    return d2l.sgd([W, b], lr, batch_size)"
   ]
  },
  {
   "cell_type": "code",
   "execution_count": 59,
   "id": "4230703a",
   "metadata": {},
   "outputs": [
    {
     "name": "stdout",
     "output_type": "stream",
     "text": [
      "loss in epoch 1: 0.5701588988304138, accuracy in epoch 1: 0.8144\n",
      "loss in epoch 2: 0.5254683494567871, accuracy in epoch 2: 0.82515\n",
      "loss in epoch 3: 0.5014005303382874, accuracy in epoch 3: 0.8317833333333333\n",
      "loss in epoch 4: 0.4855089783668518, accuracy in epoch 4: 0.8366166666666667\n",
      "loss in epoch 5: 0.47400280833244324, accuracy in epoch 5: 0.8402166666666666\n",
      "loss in epoch 6: 0.46488529443740845, accuracy in epoch 6: 0.8436\n",
      "loss in epoch 7: 0.4577789902687073, accuracy in epoch 7: 0.8451333333333333\n",
      "loss in epoch 8: 0.45222848653793335, accuracy in epoch 8: 0.8469833333333333\n",
      "loss in epoch 9: 0.44759416580200195, accuracy in epoch 9: 0.8482833333333333\n",
      "loss in epoch 10: 0.44329458475112915, accuracy in epoch 10: 0.8490666666666666\n"
     ]
    }
   ],
   "source": [
    "num_epochs = 10\n",
    "train_ch3(net, train_iter, test_iter, cross_entropy, updater, num_epochs)"
   ]
  },
  {
   "cell_type": "code",
   "execution_count": null,
   "id": "fe1be375",
   "metadata": {},
   "outputs": [],
   "source": []
  }
 ],
 "metadata": {
  "kernelspec": {
   "display_name": "pytorch",
   "language": "python",
   "name": "pytorch"
  },
  "language_info": {
   "codemirror_mode": {
    "name": "ipython",
    "version": 3
   },
   "file_extension": ".py",
   "mimetype": "text/x-python",
   "name": "python",
   "nbconvert_exporter": "python",
   "pygments_lexer": "ipython3",
   "version": "3.8.13"
  }
 },
 "nbformat": 4,
 "nbformat_minor": 5
}
