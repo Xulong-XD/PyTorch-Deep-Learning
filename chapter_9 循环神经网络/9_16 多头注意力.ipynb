{
 "cells": [
  {
   "cell_type": "markdown",
   "id": "10c89f7c",
   "metadata": {},
   "source": [
    "# Multi-Head Attention\n",
    "在实践中，当给定相同的查询、键和值的集合时，我们希望模型可以基于相同的注意力机制学习到不同的行为，然后将不同的行为作为知识组合起来，捕获序列内各种范围的依赖关系。因此，允许注意力机制组合使用查询、键和值的不同子空间表示可能是有益的。\n",
    "\n",
    "为此，与其只使用单独一个注意力汇聚，我们可以用独立学习得到的$h$组不同的*线性投影*（linear projections）来变换查询、键和值然后，这$h$组变换后的查询、键和值将并行地送到注意力汇聚中。最后，将这$h$个注意力汇聚的输出拼接在一起，并且通过另一个可以学习的线性投影进行变换，以产生最终输出。这种设计被称为*多头注意力*（multihead attention）。对于$h$个注意力汇聚输出，每一个注意力汇聚都被称作一个*头*（head）。下图展示了使用全连接层来实现可学习的线性变换的多头注意力。\n",
    "\n",
    "![多头注意力：多个头连结然后线性变换](./multi-head-attention.svg)\n",
    "\n",
    ":label:`fig_multi-head-attention`"
   ]
  },
  {
   "cell_type": "markdown",
   "id": "246b3372",
   "metadata": {},
   "source": [
    "## 模型\n",
    "在实现多头注意力之前，让我们用数学语言将这个模型形式化地描述出来。给定查询$\\mathbf{q} \\in \\mathbb{R}^{d_q}$、键$\\mathbf{k} \\in \\mathbb{R}^{d_k}$和值$\\mathbf{v} \\in \\mathbb{R}^{d_v}$，每个注意力头$\\mathbf{h}_i$（$i = 1, \\ldots, h$）的计算方法为：\n",
    "\n",
    "$$\\mathbf{h}_i = f(\\mathbf W_i^{(q)}\\mathbf q, \\mathbf W_i^{(k)}\\mathbf k,\\mathbf W_i^{(v)}\\mathbf v) \\in \\mathbb R^{p_v},$$\n",
    "\n",
    "其中，可学习的参数包括$\\mathbf W_i^{(q)}\\in\\mathbb R^{p_q\\times d_q}$、$\\mathbf W_i^{(k)}\\in\\mathbb R^{p_k\\times d_k}$和$\\mathbf W_i^{(v)}\\in\\mathbb R^{p_v\\times d_v}$，以及代表注意力汇聚的函数$f$。$f$可以是加性注意力和缩放点积注意力。"
   ]
  },
  {
   "cell_type": "markdown",
   "id": "be8dc757",
   "metadata": {},
   "source": [
    "多头注意力的输出需要经过另一个线性转换，它对应着$h$个头连结后的结果，因此其可学习参数是$\\mathbf W_o\\in\\mathbb R^{p_o\\times h p_v}$：\n",
    "\n",
    "$$\\mathbf W_o \\begin{bmatrix}\\mathbf h_1\\\\\\vdots\\\\\\mathbf h_h\\end{bmatrix} \\in \\mathbb{R}^{p_o}.$$\n",
    "\n",
    "基于这种设计，每个头都可能会关注输入的不同部分，可以表示比简单加权平均值更复杂的函数。"
   ]
  },
  {
   "cell_type": "markdown",
   "id": "42f206e2",
   "metadata": {},
   "source": [
    "## 实现\n",
    "在实现过程中，我们[**选择缩放点积注意力作为每一个注意力头**]。为了避免计算代价和参数代价的大幅增长，我们设定$p_q = p_k = p_v = p_o / h$。值得注意的是，如果我们将查询、键和值的线性变换的输出数量设置为$p_q h = p_k h = p_v h = p_o$，则可以并行计算$h$个头。在下面的实现中，$p_o$是通过参数`num_hiddens`指定的。"
   ]
  },
  {
   "cell_type": "code",
   "execution_count": 4,
   "id": "8f9b165a",
   "metadata": {},
   "outputs": [],
   "source": [
    "import math\n",
    "import torch\n",
    "from torch import nn\n",
    "from d2l import torch as d2l"
   ]
  },
  {
   "cell_type": "code",
   "execution_count": 18,
   "id": "7461d7ee",
   "metadata": {},
   "outputs": [],
   "source": [
    "class DotProductAttention(nn.Module):\n",
    "    \"\"\"缩放点积注意力\"\"\"\n",
    "    def __init__(self, dropout, **kwargs):\n",
    "        super(DotProductAttention, self).__init__(**kwargs)\n",
    "        self.dropout = nn.Dropout(dropout)\n",
    "\n",
    "    # queries的形状：(batch_size，查询的个数，d)\n",
    "    # keys的形状：(batch_size，“键－值”对的个数，d)\n",
    "    # values的形状：(batch_size，“键－值”对的个数，值的维度)\n",
    "    # valid_lens的形状:(batch_size，)或者(batch_size，查询的个数)\n",
    "    def forward(self, queries, keys, values, valid_lens=None):\n",
    "        d = queries.shape[-1]\n",
    "        # 设置transpose_b=True为了交换keys的最后两个维度\n",
    "        scores = torch.bmm(queries, keys.transpose(1,2)) / math.sqrt(d)\n",
    "        # 注意力权重的形状：（batch_size, 查询的个数，键值对的个数）\n",
    "        self.attention_weights = d2l.masked_softmax(scores, valid_lens)\n",
    "        # 输出的形状是：（batch_size, 查询的个数，值的维度）\n",
    "        return torch.bmm(self.dropout(self.attention_weights), values)"
   ]
  },
  {
   "cell_type": "code",
   "execution_count": 52,
   "id": "f46485e2",
   "metadata": {},
   "outputs": [],
   "source": [
    "class MultiHeadAttention(nn.Module):\n",
    "    \"\"\"多头注意力\"\"\"\n",
    "    def __init__(self, key_size, query_size, value_size, num_hiddens,\n",
    "                 num_heads, dropout, bias=False, **kwargs):\n",
    "        super(MultiHeadAttention, self).__init__(**kwargs)\n",
    "        self.num_heads = num_heads\n",
    "        self.attention = DotProductAttention(dropout)\n",
    "        self.W_q = nn.Linear(query_size, num_hiddens, bias=bias)\n",
    "        self.W_k = nn.Linear(key_size, num_hiddens, bias=bias)\n",
    "        self.W_v = nn.Linear(value_size, num_hiddens, bias=bias)\n",
    "        self.W_o = nn.Linear(num_hiddens, num_hiddens, bias=bias)\n",
    "\n",
    "    def forward(self, queries, keys, values, valid_lens):\n",
    "        \"\"\"\n",
    "        queries的形状：（batch_size, 查询个数， num_hiddens）\n",
    "        keys的形状：（batch_size, 键值对个数， num_hiddens）\n",
    "        values的形状：（（batch_size, 键值对个数， num_hiddens））\n",
    "        \n",
    "        \"\"\"\n",
    "        queries = self.W_q(queries)\n",
    "        keys = self.W_k(keys)\n",
    "        values = self.W_v(values)\n",
    "        \"\"\"\n",
    "        经过变换后，输出的queries，keys，values　的形状:\n",
    "        (batch_size*num_heads，查询或者“键－值”对的个数，num_hiddens/num_heads)\n",
    "        \"\"\"\n",
    "        queries = transpose_qkv(queries, self.num_heads)\n",
    "        keys = transpose_qkv(keys, self.num_heads)\n",
    "        values = transpose_qkv(values, self.num_heads)\n",
    "        \n",
    "        if valid_lens is not None:\n",
    "            # 在轴0，将第一项（标量或者矢量）复制num_heads次，\n",
    "            # 然后如此复制第二项，然后诸如此类。\n",
    "            valid_lens = torch.repeat_interleave(\n",
    "                valid_lens, repeats=self.num_heads, dim=0)\n",
    "\n",
    "        # output的形状:(batch_size*num_heads，查询的个数，\n",
    "        # num_hiddens/num_heads)\n",
    "        output = self.attention(queries, keys, values, valid_lens)\n",
    "\n",
    "        # output_concat的形状:(batch_size，查询的个数，num_hiddens)\n",
    "        output_concat = transpose_output(output, self.num_heads)\n",
    "        return self.W_o(output_concat)        "
   ]
  },
  {
   "cell_type": "markdown",
   "id": "a5cb5e13",
   "metadata": {},
   "source": [
    "为了能够[**使多个头并行计算**]，上面的`MultiHeadAttention`类将使用下面定义的两个转置函数。具体来说，`transpose_output`函数反转了`transpose_qkv`函数的操作。"
   ]
  },
  {
   "cell_type": "code",
   "execution_count": 53,
   "id": "2ec4bf84",
   "metadata": {},
   "outputs": [],
   "source": [
    "def transpose_qkv(X, num_heads):\n",
    "    \"\"\"为了多注意力头的并行计算而变换形状\"\"\"\n",
    "    # 输入X的形状:(batch_size，查询或者“键－值”对的个数，num_hiddens)\n",
    "    # 输出X的形状:(batch_size，查询或者“键－值”对的个数，num_heads，\n",
    "    # num_hiddens/num_heads)\n",
    "    X = X.reshape(X.shape[0], X.shape[1], num_heads, -1)\n",
    "\n",
    "    # 输出X的形状:(batch_size，num_heads，查询或者“键－值”对的个数,\n",
    "    # num_hiddens/num_heads)\n",
    "    X = X.permute(0, 2, 1, 3)\n",
    "\n",
    "    # 最终输出的形状:(batch_size*num_heads,查询或者“键－值”对的个数,\n",
    "    # num_hiddens/num_heads)\n",
    "    return X.reshape(-1, X.shape[2], X.shape[3])\n",
    "\n",
    "\n",
    "def transpose_output(X, num_heads):\n",
    "    \"\"\"逆转transpose_qkv函数的操作\"\"\"\n",
    "    X = X.reshape(-1, num_heads, X.shape[1], X.shape[2])\n",
    "    X = X.permute(0, 2, 1, 3)\n",
    "    return X.reshape(X.shape[0], X.shape[1], -1)"
   ]
  },
  {
   "cell_type": "markdown",
   "id": "f063fe67",
   "metadata": {},
   "source": [
    "下面我们使用键和值相同的小例子来[**测试**]我们编写的`MultiHeadAttention`类。多头注意力输出的形状是（`batch_size`，`num_queries`，`num_hiddens`）。"
   ]
  },
  {
   "cell_type": "code",
   "execution_count": 54,
   "id": "aea2a640",
   "metadata": {},
   "outputs": [
    {
     "data": {
      "text/plain": [
       "MultiHeadAttention(\n",
       "  (attention): DotProductAttention(\n",
       "    (dropout): Dropout(p=0.5, inplace=False)\n",
       "  )\n",
       "  (W_q): Linear(in_features=100, out_features=100, bias=False)\n",
       "  (W_k): Linear(in_features=100, out_features=100, bias=False)\n",
       "  (W_v): Linear(in_features=100, out_features=100, bias=False)\n",
       "  (W_o): Linear(in_features=100, out_features=100, bias=False)\n",
       ")"
      ]
     },
     "execution_count": 54,
     "metadata": {},
     "output_type": "execute_result"
    }
   ],
   "source": [
    "num_hiddens, num_heads = 100, 5\n",
    "attention = MultiHeadAttention(num_hiddens, num_hiddens, num_hiddens,\n",
    "                               num_hiddens, num_heads, 0.5)\n",
    "attention.eval()"
   ]
  },
  {
   "cell_type": "code",
   "execution_count": 55,
   "id": "7e3a35dd",
   "metadata": {},
   "outputs": [
    {
     "data": {
      "text/plain": [
       "torch.Size([2, 4, 100])"
      ]
     },
     "execution_count": 55,
     "metadata": {},
     "output_type": "execute_result"
    }
   ],
   "source": [
    "batch_size, num_queries = 2, 4\n",
    "num_kvpairs, valid_lens =  6, torch.tensor([3, 2])\n",
    "X = torch.ones((batch_size, num_queries, num_hiddens))\n",
    "Y = torch.ones((batch_size, num_kvpairs, num_hiddens))\n",
    "attention(X, Y, Y, valid_lens).shape"
   ]
  },
  {
   "cell_type": "markdown",
   "id": "02e6084e",
   "metadata": {},
   "source": [
    "## 小结\n",
    "\n",
    "* 多头注意力融合了来自于多个注意力汇聚的不同知识，这些知识的不同来源于相同的查询、键和值的不同的子空间表示。\n",
    "* 基于适当的张量操作，可以实现多头注意力的并行计算。"
   ]
  },
  {
   "cell_type": "code",
   "execution_count": null,
   "id": "cf607f2c",
   "metadata": {},
   "outputs": [],
   "source": []
  }
 ],
 "metadata": {
  "kernelspec": {
   "display_name": "pytorch",
   "language": "python",
   "name": "pytorch"
  },
  "language_info": {
   "codemirror_mode": {
    "name": "ipython",
    "version": 3
   },
   "file_extension": ".py",
   "mimetype": "text/x-python",
   "name": "python",
   "nbconvert_exporter": "python",
   "pygments_lexer": "ipython3",
   "version": "3.8.13"
  }
 },
 "nbformat": 4,
 "nbformat_minor": 5
}
