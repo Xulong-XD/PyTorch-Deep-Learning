{
 "cells": [
  {
   "cell_type": "markdown",
   "id": "35a0579e",
   "metadata": {},
   "source": [
    "# 多层感知机从零开始实现"
   ]
  },
  {
   "cell_type": "markdown",
   "id": "dbd4eee3",
   "metadata": {},
   "source": [
    "现在我们尝试自己实现一个多层感知机，依然使用Fashion-MNIST图像分类数据集。"
   ]
  },
  {
   "cell_type": "markdown",
   "id": "73d5e03f",
   "metadata": {},
   "source": [
    "# 加载数据集\n"
   ]
  },
  {
   "cell_type": "code",
   "execution_count": 12,
   "id": "587757ef",
   "metadata": {},
   "outputs": [],
   "source": [
    "import torch\n",
    "import torchvision\n",
    "from torch.utils import data\n",
    "from torchvision import transforms\n",
    "import warnings\n",
    "warnings.filterwarnings('ignore')"
   ]
  },
  {
   "cell_type": "code",
   "execution_count": 16,
   "id": "22c31f2b",
   "metadata": {},
   "outputs": [],
   "source": [
    "trans = transforms.ToTensor()\n",
    "batch_size = 256\n",
    "train_data = torchvision.datasets.FashionMNIST(root='../data', train=True, download=True, transform=trans)\n",
    "test_data = torchvision.datasets.FashionMNIST(root='../data', train=False, download=True, transform=trans)\n",
    "train_iter = data.DataLoader(train_data, shuffle=True, batch_size=batch_size)\n",
    "test_iter = data.DataLoader(test_data, shuffle=True, batch_size=batch_size)"
   ]
  },
  {
   "cell_type": "markdown",
   "id": "226ffe7a",
   "metadata": {},
   "source": [
    "## 初始化模型参数\n",
    "Fashion-mnist数据集的每个图像是由784个像素值组成，因此输入特征的维度为784，输出类别是10，因此输出维度为10。我们假设实现一个具有单隐藏层的多层感知机，它包含256个隐藏单元。注意，我们可以将这两个变量都视为超参数。\n",
    "通常，我们选择2的若干次幂作为层的宽度。\n",
    "因为内存在硬件中的分配和寻址方式，这么做往往可以在计算上更高效。\n"
   ]
  },
  {
   "cell_type": "markdown",
   "id": "7ffe5237",
   "metadata": {},
   "source": [
    "我们用几个张量来表示我们的参数。\n",
    "注意，对于每一层我们都要记录一个权重矩阵和一个偏置向量。\n",
    "跟以前一样，我们要为损失关于这些参数的梯度分配内存。"
   ]
  },
  {
   "cell_type": "code",
   "execution_count": 19,
   "id": "89d21785",
   "metadata": {},
   "outputs": [],
   "source": [
    "num_inputs, num_outputs, num_hiddens = 784, 10, 256\n",
    "W1 = torch.normal(0, 0.01, size=(num_inputs, num_hiddens), requires_grad=True)\n",
    "b1 = torch.zeros(num_hiddens, requires_grad=True)\n",
    "W2 = torch.normal(0, 0.01, size=(num_hiddens, num_outputs), requires_grad=True)\n",
    "b2 = torch.zeros(num_outputs, requires_grad=True)\n",
    "params = [W1, b1, W2, b2]"
   ]
  },
  {
   "cell_type": "markdown",
   "id": "874241b6",
   "metadata": {},
   "source": [
    "## 激活函数\n",
    "\n",
    "为了确保我们对模型的细节了如指掌，\n",
    "我们将[**实现ReLU激活函数**]，\n",
    "而不是直接调用内置的`relu`函数。"
   ]
  },
  {
   "cell_type": "code",
   "execution_count": 26,
   "id": "da40b2a5",
   "metadata": {},
   "outputs": [],
   "source": [
    "def relu(X):\n",
    "    a = torch.zeros_like(X)\n",
    "    return torch.max(X, a)"
   ]
  },
  {
   "cell_type": "markdown",
   "id": "0d88cc19",
   "metadata": {},
   "source": [
    "## 模型"
   ]
  },
  {
   "cell_type": "code",
   "execution_count": 28,
   "id": "18ec12d5",
   "metadata": {},
   "outputs": [],
   "source": [
    "def net(X):\n",
    "    X = X.reshape(-1, num_inputs)\n",
    "    H = relu(torch.matmul(X, W1) + b1)\n",
    "    return torch.matmul(H, W2) + b2"
   ]
  },
  {
   "cell_type": "markdown",
   "id": "f20bb331",
   "metadata": {},
   "source": [
    "## 损失函数\n",
    "这里直接使用高级API的内置函数来计算softmax和交叉熵损失函数,需要注意torch.nn.CrossEntropy()同时完成了对输出y_hat进行指数运算、softmax运算得到概率、取出概率求交叉熵损失的操作。\n",
    "\n",
    "另外需要注意reduction参数的含义。"
   ]
  },
  {
   "cell_type": "code",
   "execution_count": 43,
   "id": "b67ce796",
   "metadata": {},
   "outputs": [],
   "source": [
    "# loss = torch.nn.CrossEntropyLoss()\n",
    "loss = torch.nn.CrossEntropyLoss(reduction='none')"
   ]
  },
  {
   "cell_type": "markdown",
   "id": "5a2d10d5",
   "metadata": {},
   "source": [
    "## 优化器"
   ]
  },
  {
   "cell_type": "code",
   "execution_count": 39,
   "id": "7878a31d",
   "metadata": {},
   "outputs": [],
   "source": [
    "lr = 0.01\n",
    "optimizer = torch.optim.SGD(params, lr=lr)"
   ]
  },
  {
   "cell_type": "markdown",
   "id": "0fbdc850",
   "metadata": {},
   "source": [
    "## 训练\n"
   ]
  },
  {
   "cell_type": "code",
   "execution_count": 44,
   "id": "abca6d50",
   "metadata": {},
   "outputs": [
    {
     "name": "stdout",
     "output_type": "stream",
     "text": [
      "epoch:  1 loss tensor(0.4153, grad_fn=<DivBackward0>)\n",
      "epoch:  2 loss tensor(0.4142, grad_fn=<DivBackward0>)\n",
      "epoch:  3 loss tensor(0.4127, grad_fn=<DivBackward0>)\n",
      "epoch:  4 loss tensor(0.4115, grad_fn=<DivBackward0>)\n",
      "epoch:  5 loss tensor(0.4103, grad_fn=<DivBackward0>)\n",
      "epoch:  6 loss tensor(0.4093, grad_fn=<DivBackward0>)\n",
      "epoch:  7 loss tensor(0.4079, grad_fn=<DivBackward0>)\n",
      "epoch:  8 loss tensor(0.4065, grad_fn=<DivBackward0>)\n",
      "epoch:  9 loss tensor(0.4057, grad_fn=<DivBackward0>)\n",
      "epoch:  10 loss tensor(0.4045, grad_fn=<DivBackward0>)\n"
     ]
    }
   ],
   "source": [
    "num_epochs = 10\n",
    "optimizer = torch.optim.SGD(params, lr=lr)\n",
    "for epoch in range(num_epochs):\n",
    "    loss_total = 0\n",
    "    samples = 0\n",
    "    for X, y in train_iter:\n",
    "        y_hat = net(X)\n",
    "        loss_batch = loss(y_hat, y)\n",
    "        optimizer.zero_grad()\n",
    "        loss_batch.mean().backward()\n",
    "        optimizer.step()\n",
    "        loss_total += loss_batch.sum()\n",
    "        samples += len(y)\n",
    "    print('epoch: ', epoch + 1, 'loss', loss_total / samples)"
   ]
  },
  {
   "cell_type": "code",
   "execution_count": 41,
   "id": "69a24a34",
   "metadata": {},
   "outputs": [
    {
     "name": "stdout",
     "output_type": "stream",
     "text": [
      "loss in epoch 1: 0.42980316281318665\n",
      "loss in epoch 2: 0.4278811812400818\n",
      "loss in epoch 3: 0.42638543248176575\n",
      "loss in epoch 4: 0.424741268157959\n",
      "loss in epoch 5: 0.4237530827522278\n",
      "loss in epoch 6: 0.4221717119216919\n",
      "loss in epoch 7: 0.42112651467323303\n",
      "loss in epoch 8: 0.4197741746902466\n",
      "loss in epoch 9: 0.4182150363922119\n",
      "loss in epoch 10: 0.4164640009403229\n"
     ]
    }
   ],
   "source": [
    "num_epochs =10\n",
    "for epoch in range(num_epochs):\n",
    "    training_loss = 0\n",
    "    num_batches = 0\n",
    "    for X, y in train_iter:\n",
    "        y_hat = net(X)\n",
    "        loss_batch = loss(y_hat, y)  # 计算的是一个batch的平均损失\n",
    "        optimizer.zero_grad()\n",
    "        loss_batch.backward()\n",
    "        optimizer.step()\n",
    "        training_loss += loss_batch  # 对每一个batch的平均损失求和\n",
    "        num_batches += 1  # 记录一共有多少个batch\n",
    "    print(f'loss in epoch {epoch + 1}: {training_loss / num_batches}')"
   ]
  },
  {
   "cell_type": "code",
   "execution_count": null,
   "id": "a62b6a9d",
   "metadata": {},
   "outputs": [],
   "source": []
  }
 ],
 "metadata": {
  "kernelspec": {
   "display_name": "pytorch",
   "language": "python",
   "name": "pytorch"
  },
  "language_info": {
   "codemirror_mode": {
    "name": "ipython",
    "version": 3
   },
   "file_extension": ".py",
   "mimetype": "text/x-python",
   "name": "python",
   "nbconvert_exporter": "python",
   "pygments_lexer": "ipython3",
   "version": "3.8.13"
  }
 },
 "nbformat": 4,
 "nbformat_minor": 5
}
