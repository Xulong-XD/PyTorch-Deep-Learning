{
 "cells": [
  {
   "cell_type": "code",
   "execution_count": 26,
   "id": "f63b8904",
   "metadata": {},
   "outputs": [],
   "source": [
    "import torch\n",
    "import torch.nn as nn\n",
    "import torchvision\n",
    "from torch.utils import data\n",
    "from torchvision import transforms\n",
    "import warnings\n",
    "warnings.filterwarnings('ignore')"
   ]
  },
  {
   "cell_type": "code",
   "execution_count": 3,
   "id": "cf9fa32b",
   "metadata": {},
   "outputs": [],
   "source": [
    "trans = transforms.ToTensor()\n",
    "batch_size = 256\n",
    "train_data = torchvision.datasets.FashionMNIST(root='../data', train=True, download=True, transform=trans)\n",
    "test_data = torchvision.datasets.FashionMNIST(root='../data', train=False, download=True, transform=trans)\n",
    "train_iter = data.DataLoader(train_data, shuffle=True, batch_size=batch_size)\n",
    "test_iter = data.DataLoader(test_data, shuffle=True, batch_size=batch_size)"
   ]
  },
  {
   "cell_type": "code",
   "execution_count": 4,
   "id": "3437f9eb",
   "metadata": {},
   "outputs": [
    {
     "data": {
      "text/plain": [
       "Sequential(\n",
       "  (0): Flatten(start_dim=1, end_dim=-1)\n",
       "  (1): Linear(in_features=784, out_features=256, bias=True)\n",
       "  (2): ReLU()\n",
       "  (3): Linear(in_features=256, out_features=10, bias=True)\n",
       ")"
      ]
     },
     "execution_count": 4,
     "metadata": {},
     "output_type": "execute_result"
    }
   ],
   "source": [
    "net = torch.nn.Sequential(nn.Flatten(),\n",
    "                         nn.Linear(784, 256),\n",
    "                         nn.ReLU(),\n",
    "                         nn.Linear(256, 10))\n",
    "def init_weights(m):\n",
    "    if type(m) == nn.Linear:\n",
    "        nn.init.normal_(m.weight, std=0.01)\n",
    "\n",
    "net.apply(init_weights)"
   ]
  },
  {
   "cell_type": "code",
   "execution_count": 5,
   "id": "9742e6b8",
   "metadata": {},
   "outputs": [],
   "source": [
    "loss = nn.CrossEntropyLoss()"
   ]
  },
  {
   "cell_type": "code",
   "execution_count": 6,
   "id": "02ad2153",
   "metadata": {},
   "outputs": [],
   "source": [
    "lr = 0.01 \n",
    "optimizer = torch.optim.SGD(net.parameters(), lr = lr)"
   ]
  },
  {
   "cell_type": "code",
   "execution_count": 27,
   "id": "9942e4b3",
   "metadata": {},
   "outputs": [
    {
     "name": "stdout",
     "output_type": "stream",
     "text": [
      "epoch 1: loss : 0.6433107256889343, accuracy : 0.7769166827201843\n",
      "epoch 2: loss : 0.6220905184745789, accuracy : 0.7856000065803528\n",
      "epoch 3: loss : 0.6038233041763306, accuracy : 0.7930499911308289\n",
      "epoch 4: loss : 0.5874991416931152, accuracy : 0.7997999787330627\n",
      "epoch 5: loss : 0.5738343000411987, accuracy : 0.8050833344459534\n",
      "epoch 6: loss : 0.5613183975219727, accuracy : 0.8095666766166687\n",
      "epoch 7: loss : 0.5504812598228455, accuracy : 0.8126333355903625\n",
      "epoch 8: loss : 0.5404790043830872, accuracy : 0.8162333369255066\n",
      "epoch 9: loss : 0.5315883159637451, accuracy : 0.8194833397865295\n",
      "epoch 10: loss : 0.5236487984657288, accuracy : 0.822350025177002\n"
     ]
    }
   ],
   "source": [
    "num_epochs = 10\n",
    "for epoch in range(num_epochs):\n",
    "    training_loss = 0\n",
    "    correct = 0\n",
    "    num_batches = 0\n",
    "    num_samples = 0\n",
    "    for X, y in train_iter:\n",
    "        y_hat = net(X)\n",
    "        loss_batch = loss(y_hat, y)  # 计算的是一个batch的平均损失\n",
    "        optimizer.zero_grad()\n",
    "        loss_batch.backward()\n",
    "        optimizer.step()\n",
    "        \n",
    "        training_loss += loss_batch  # 对每一个batch的平均损失求和\n",
    "        \n",
    "        cmp = torch.argmax(y_hat, axis=1) == y  # 记录该batch预测训练精度\n",
    "        correct += cmp.sum()\n",
    "        \n",
    "        num_batches += 1  # 记录一共有多少个batch\n",
    "        num_samples += len(y)  # 记录一共有多少个样本\n",
    "        \n",
    "    print(f'epoch {epoch + 1}: loss : {training_loss / num_batches}, accuracy : {correct / num_samples}')"
   ]
  },
  {
   "cell_type": "code",
   "execution_count": null,
   "id": "de8494c0",
   "metadata": {},
   "outputs": [],
   "source": []
  }
 ],
 "metadata": {
  "kernelspec": {
   "display_name": "pytorch",
   "language": "python",
   "name": "pytorch"
  },
  "language_info": {
   "codemirror_mode": {
    "name": "ipython",
    "version": 3
   },
   "file_extension": ".py",
   "mimetype": "text/x-python",
   "name": "python",
   "nbconvert_exporter": "python",
   "pygments_lexer": "ipython3",
   "version": "3.8.13"
  }
 },
 "nbformat": 4,
 "nbformat_minor": 5
}
