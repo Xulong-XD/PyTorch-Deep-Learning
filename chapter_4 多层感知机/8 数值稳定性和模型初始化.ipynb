{
 "cells": [
  {
   "cell_type": "markdown",
   "id": "0286b8f9",
   "metadata": {},
   "source": [
    "# 数值稳定性和模型初始化\n",
    "模型参数的初始化方案的选择在神经网络学习中起着举足轻重的作用，对保持数值稳定性至关重要。此外，激活函数的选择和参数的初始化方法结合在一起可以决定优化算法收敛的速度有多快。糟糕的选择会导致我们在训练时遇到梯度消失或者梯度爆炸。\n",
    "\n",
    "## 梯度消失和梯度爆炸\n",
    "![](./grad.png)\n",
    "\n",
    "![](./eg.png)"
   ]
  },
  {
   "cell_type": "markdown",
   "id": "25b14cab",
   "metadata": {},
   "source": [
    "### 梯度爆炸\n",
    "![](./GradExplosion.png)\n",
    "\n",
    "### 梯度爆炸的问题\n",
    "* 值超出值域：对于16位浮点数尤为严重\n",
    "* 对学习率敏感\n",
    "    * 如果学习率太大，则对于大的参数值会产生更大的梯度\n",
    "    * 如果学习率太小，训练会无进展\n",
    "    * 可能需要在训练过程不断调整学习率\n",
    "    "
   ]
  },
  {
   "cell_type": "markdown",
   "id": "29535376",
   "metadata": {},
   "source": [
    "### 梯度消失\n",
    "![](./gradvanish.png)"
   ]
  },
  {
   "cell_type": "markdown",
   "id": "a9752b0a",
   "metadata": {},
   "source": [
    "### 梯度消失的问题\n",
    "* 梯度值变成0\n",
    "* 训练没有进展，不管怎么选择学习率\n",
    "* 对于底部层尤为严重，仅仅顶部层训练得较好，无法让神经网络更深"
   ]
  },
  {
   "cell_type": "markdown",
   "id": "cb8f7c32",
   "metadata": {},
   "source": [
    "## 权重初始化\n",
    "* 目标：让梯度值在合理的范围内\n",
    "* 方法\n",
    "    * 让乘法变加法，比如ResNet, LSTM\n",
    "    * 梯度归一化，梯度剪裁\n",
    "    * 合理的权重初始化和激活函数\n",
    "    \n",
    "### 让每层的方差是一个常数\n",
    "将每层的输出和梯度都看做随机变量，让它们的均值和方差都保持一直：\n",
    "\n",
    "![](./var_mean.png)\n",
    "\n",
    "![](./var_mean1.png)\n",
    "\n",
    "![](./var_mean2.png)\n",
    "\n",
    "![](./var_mean3.png)"
   ]
  },
  {
   "cell_type": "markdown",
   "id": "3b9c7699",
   "metadata": {},
   "source": [
    "###  Xavier初始化\n",
    "![](./xavier.png)\n",
    "\n",
    "尽管在上述数学推理中，“不存在非线性”的假设在神经网络中很容易被违反，\n",
    "但Xavier初始化方法在实践中被证明是有效的。"
   ]
  },
  {
   "cell_type": "code",
   "execution_count": null,
   "id": "ad3cf3c7",
   "metadata": {},
   "outputs": [],
   "source": []
  }
 ],
 "metadata": {
  "kernelspec": {
   "display_name": "pytorch",
   "language": "python",
   "name": "pytorch"
  },
  "language_info": {
   "codemirror_mode": {
    "name": "ipython",
    "version": 3
   },
   "file_extension": ".py",
   "mimetype": "text/x-python",
   "name": "python",
   "nbconvert_exporter": "python",
   "pygments_lexer": "ipython3",
   "version": "3.8.13"
  }
 },
 "nbformat": 4,
 "nbformat_minor": 5
}
