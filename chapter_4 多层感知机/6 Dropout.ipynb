{
 "cells": [
  {
   "cell_type": "markdown",
   "id": "4e25f8e6",
   "metadata": {},
   "source": [
    "# Dropout\n",
    "## 扰动的稳健性\n",
    "什么是一个“好”的预测模型？我们期待“好”的预测模型能在未知的数据上有很好的表现。\n",
    "经典泛化理论认为，为了缩小训练和测试性能之间的差距，应该尽可能使用简单的模型。\n",
    "简单性可以表现为较小的维度，比如特征的个数；简单性也可以表现为参数的范数；\n",
    "另外，简单性还可以表现为平滑行，即函数不应该对其输入的微小变化敏感。\n",
    "例如，当我们对图像进行分类时，我们预计向像素添加一些随机噪声应该是基本无影响的。\n",
    "1995年，克里斯托弗·毕晓普证明了具有输入噪声的训练等价于Tikhonov正则化 :cite:`Bishop.1995`。\n",
    "这项工作用数学证实了“要求函数光滑”和“要求函数对输入的随机噪声具有适应性”之间的联系。\n",
    "然后在2014年，斯里瓦斯塔瓦等人 :cite:`Srivastava.Hinton.Krizhevsky.ea.2014`\n",
    "就如何将毕晓普的想法应用于网络的内部层提出了一个想法：\n",
    "在训练过程中，他们建议在计算后续层之前向网络的每一层注入噪声。\n",
    "因为当训练一个有多层的深层网络时，注入噪声只会在输入-输出映射上增强平滑性。\n",
    "\n",
    "这个想法被称为*暂退法*（dropout）。\n",
    "暂退法在前向传播过程中，计算每一内部层的同时注入噪声。\n",
    "之所以被称为暂退法，是因为我们从表面上看是在训练过程中丢弃（drop out）一些神经元。\n",
    "那么关键的挑战是如何注入这种噪声。\n",
    "一种想法是以无偏的方式注入噪声，这样在固定住其他层时，每一层的期望不发生改变。\n",
    "\n",
    "在标准暂退法正则化中，通过按保留（未丢弃）的节点的分数进行规范化来消除每一层的偏差。\n",
    "换言之，每个中间活性值$h$以*暂退概率*$p$由随机变量$h'$替换，如下所示：\n",
    "\n",
    "$$\n",
    "\\begin{aligned}\n",
    "h' =\n",
    "\\begin{cases}\n",
    "    0 & \\text{ 概率为 } p \\\\\n",
    "    \\frac{h}{1-p} & \\text{ 其他情况}\n",
    "\\end{cases}\n",
    "\\end{aligned}\n",
    "$$\n",
    "\n",
    "根据此模型的设计，其期望值保持不变，即$E[h'] = h$。"
   ]
  },
  {
   "cell_type": "markdown",
   "id": "29ec39b2",
   "metadata": {},
   "source": [
    "## 实践中的暂退法\n",
    "当我们将暂退法应用到隐藏层，以$p$的概率将隐藏单元置为零时，\n",
    "结果可以看作是一个只包含原始神经元子集的网络。\n",
    "比如在下图中，删除了$h_2$和$h_5$，\n",
    "因此输出的计算不再依赖于$h_2$或$h_5$，并且它们各自的梯度在执行反向传播时也会消失。\n",
    "这样，输出层的计算不能过度依赖于$h_1, \\ldots, h_5$的任何一个元素。\n",
    "\n",
    "![dropout前后的多层感知机](./dropout2-Copy1.svg)\n",
    "\n",
    "通常，我们在测试时不用暂退法。\n",
    "给定一个训练好的模型和一个新的样本，我们不会丢弃任何节点\n",
    "然而也有一些例外：一些研究人员在测试时使用暂退法，\n",
    "用于估计神经网络预测的“不确定性”：\n",
    "如果通过许多不同的暂退法遮盖后得到的预测结果都是一致的，那么我们可以说网络发挥更稳定。\n",
    "\n",
    "## 从零开始实现\n",
    "### 定义dropout_layer函数\n",
    "我们从均匀分布$U[0, 1]$中抽取样本，样本数与这层神经网络的维度一致。\n",
    "然后我们保留那些对应样本大于$p$的节点，把剩下的丢弃。\n",
    "\n",
    "在下面的代码中，(**我们实现 `dropout_layer` 函数，\n",
    "该函数以`dropout`的概率丢弃张量输入`X`中的元素**)，\n",
    "如上所述重新缩放剩余部分：将剩余部分除以`1.0-dropout`。"
   ]
  },
  {
   "cell_type": "code",
   "execution_count": 31,
   "id": "78b65ea3",
   "metadata": {},
   "outputs": [],
   "source": [
    "import torch\n",
    "import torch.nn as nn\n",
    "from d2l import torch as d2l"
   ]
  },
  {
   "cell_type": "code",
   "execution_count": 32,
   "id": "0896fb0c",
   "metadata": {},
   "outputs": [],
   "source": [
    "def dropout_layer(X, dropout):\n",
    "    assert 0 <= dropout <= 1\n",
    "    # 在本情况下，所有元素都被丢弃\n",
    "    if dropout == 1:\n",
    "        return torch.zeros_like(X)\n",
    "    if dropout == 0:\n",
    "        return X\n",
    "    mask = (torch.rand(X.shape) > dropout).float()\n",
    "    return mask * X / (1 - dropout)"
   ]
  },
  {
   "cell_type": "markdown",
   "id": "dd7e6ae6",
   "metadata": {},
   "source": [
    "我们可以通过下面几个例子来[**测试`dropout_layer`函数**]。\n",
    "我们将输入`X`通过暂退法操作，暂退概率分别为0、0.5和1。"
   ]
  },
  {
   "cell_type": "code",
   "execution_count": 33,
   "id": "f1e18c2b",
   "metadata": {},
   "outputs": [
    {
     "data": {
      "text/plain": [
       "tensor([[ 0.,  1.,  2.,  3.,  4.,  5.,  6.,  7.],\n",
       "        [ 8.,  9., 10., 11., 12., 13., 14., 15.]])"
      ]
     },
     "execution_count": 33,
     "metadata": {},
     "output_type": "execute_result"
    }
   ],
   "source": [
    "X = torch.arange(16, dtype=torch.float32).reshape((2, 8))\n",
    "X"
   ]
  },
  {
   "cell_type": "code",
   "execution_count": 34,
   "id": "ec9181db",
   "metadata": {},
   "outputs": [
    {
     "data": {
      "text/plain": [
       "tensor([[0., 0., 0., 0., 0., 0., 0., 0.],\n",
       "        [0., 0., 0., 0., 0., 0., 0., 0.]])"
      ]
     },
     "execution_count": 34,
     "metadata": {},
     "output_type": "execute_result"
    }
   ],
   "source": [
    "dropout_layer(X, 1)"
   ]
  },
  {
   "cell_type": "code",
   "execution_count": 35,
   "id": "f4f85193",
   "metadata": {},
   "outputs": [
    {
     "data": {
      "text/plain": [
       "tensor([[ 0.,  1.,  2.,  3.,  4.,  5.,  6.,  7.],\n",
       "        [ 8.,  9., 10., 11., 12., 13., 14., 15.]])"
      ]
     },
     "execution_count": 35,
     "metadata": {},
     "output_type": "execute_result"
    }
   ],
   "source": [
    "dropout_layer(X, 0)"
   ]
  },
  {
   "cell_type": "code",
   "execution_count": 36,
   "id": "a5d1eb7f",
   "metadata": {},
   "outputs": [
    {
     "data": {
      "text/plain": [
       "tensor([[ 0.,  0.,  4.,  0.,  0., 10.,  0.,  0.],\n",
       "        [16., 18., 20.,  0., 24., 26., 28.,  0.]])"
      ]
     },
     "execution_count": 36,
     "metadata": {},
     "output_type": "execute_result"
    }
   ],
   "source": [
    "dropout_layer(X, 0.5)"
   ]
  },
  {
   "cell_type": "markdown",
   "id": "223d68d3",
   "metadata": {},
   "source": [
    "### 定义模型参数\n",
    "同样，我们使用 :numref:`sec_fashion_mnist`中引入的Fashion-MNIST数据集。\n",
    "我们[**定义具有两个隐藏层的多层感知机，每个隐藏层包含256个单元**]。\n"
   ]
  },
  {
   "cell_type": "code",
   "execution_count": 37,
   "id": "7577f123",
   "metadata": {},
   "outputs": [],
   "source": [
    "num_inputs, num_outputs, num_hiddens1, num_hiddens2 = 784, 10, 256, 256"
   ]
  },
  {
   "cell_type": "markdown",
   "id": "b3919d19",
   "metadata": {},
   "source": [
    "### 定义模型\n",
    "我们可以将暂退法应用于每个隐藏层的输出之后，即激活函数之后。\n",
    "并且可以为每一个层分别设置暂退概率。\n",
    "常见的技巧是在靠近输入层的地方设置较低的暂退概率。\n",
    "下面的模型将第一个和第二个隐藏层的暂退概率分别设置为0.2和0.5。\n",
    "并且暂退法只在训练期间有效。"
   ]
  },
  {
   "cell_type": "code",
   "execution_count": 38,
   "id": "e155814d",
   "metadata": {},
   "outputs": [],
   "source": [
    "dropout1 = 0.2 \n",
    "dropout2 = 0.5\n",
    "\n",
    "class Net(nn.Module):\n",
    "    def __init__(self, num_inputs, num_outputs, num_hiddens1, \n",
    "                 num_hiddens2, is_training=True):\n",
    "        super(Net, self).__init__()\n",
    "        self.fc1 = nn.Linear(num_inputs, num_hiddens1)\n",
    "        self.fc2 = nn.Linear(num_hiddens1, num_hiddens2)\n",
    "        self.fc3 = nn.Linear(num_hiddens2, num_outputs)\n",
    "        self.relu = nn.ReLU()\n",
    "        self.training = is_training\n",
    "        self.num_inputs = num_inputs\n",
    "    \n",
    "    def forward(self, X):\n",
    "        H1 = self.relu(self.fc1(X.reshape((-1, self.num_inputs))))  \n",
    "        if self.training == True:\n",
    "            H1 = dropout_layer(H1, dropout1)\n",
    "            \n",
    "        H2 = self.relu(self.fc2(H1))   \n",
    "        if self.training == True:\n",
    "            H2 = dropout_layer(H2, dropout2)\n",
    "            \n",
    "        out = self.fc3(H2)\n",
    "        \n",
    "        return out\n",
    "    \n",
    "\n",
    "net = Net(num_inputs, num_outputs, num_hiddens1, num_hiddens2)        "
   ]
  },
  {
   "cell_type": "markdown",
   "id": "6b5385e2",
   "metadata": {},
   "source": [
    "### 训练\n"
   ]
  },
  {
   "cell_type": "code",
   "execution_count": 39,
   "id": "9f753f0e",
   "metadata": {},
   "outputs": [],
   "source": [
    "import torch\n",
    "import torchvision\n",
    "from torch.utils import data\n",
    "from torchvision import transforms\n",
    "trans = transforms.ToTensor()\n",
    "batch_size = 256\n",
    "train_data = torchvision.datasets.FashionMNIST(root='../data', train=True, download=True, transform=trans)\n",
    "test_data = torchvision.datasets.FashionMNIST(root='../data', train=False, download=True, transform=trans)\n",
    "train_iter = data.DataLoader(train_data, shuffle=True, batch_size=batch_size)\n",
    "test_iter = data.DataLoader(test_data, shuffle=True, batch_size=batch_size)"
   ]
  },
  {
   "cell_type": "code",
   "execution_count": 40,
   "id": "69db05fb",
   "metadata": {},
   "outputs": [],
   "source": [
    "loss = nn.CrossEntropyLoss()\n",
    "optimizer = torch.optim.SGD(net.parameters(), lr=0.5)"
   ]
  },
  {
   "cell_type": "code",
   "execution_count": 41,
   "id": "baadcd54",
   "metadata": {},
   "outputs": [
    {
     "name": "stdout",
     "output_type": "stream",
     "text": [
      "loss in epoch 1:0.8717734478889627\n",
      "accuracy in epoch 1:0.6753833333333333\n",
      "loss in epoch 2:0.5312912311959774\n",
      "accuracy in epoch 2:0.8056\n",
      "loss in epoch 3:0.46562048729429856\n",
      "accuracy in epoch 3:0.8293833333333334\n",
      "loss in epoch 4:0.4296744813310339\n",
      "accuracy in epoch 4:0.84375\n",
      "loss in epoch 5:0.40025618532870677\n",
      "accuracy in epoch 5:0.8551\n",
      "loss in epoch 6:0.38625069476188495\n",
      "accuracy in epoch 6:0.8593666666666666\n",
      "loss in epoch 7:0.3679675812416888\n",
      "accuracy in epoch 7:0.8651166666666666\n",
      "loss in epoch 8:0.35658981647897275\n",
      "accuracy in epoch 8:0.8686\n",
      "loss in epoch 9:0.3483600048308677\n",
      "accuracy in epoch 9:0.87155\n",
      "loss in epoch 10:0.3374735081449468\n",
      "accuracy in epoch 10:0.8763333333333333\n"
     ]
    }
   ],
   "source": [
    "num_epochs = 10\n",
    "loss_epoch = []  # 分别记录10个epoch的交叉熵损失\n",
    "correct_epoch = []  # 分别记录10个epoch分类精度\n",
    "for epoch in range(num_epochs):\n",
    "    num_samples = 0\n",
    "    num_batches = 0\n",
    "    loss_total = 0\n",
    "    correct_total = 0 \n",
    "    for X ,y in train_iter:\n",
    "        y_hat = net(X)\n",
    "        loss_batch = loss(y_hat, y)\n",
    "        optimizer.zero_grad()\n",
    "        loss_batch.backward()\n",
    "        optimizer.step()\n",
    "        \n",
    "        num_samples += len(y)\n",
    "        num_batches += 1\n",
    "        loss_total += loss_batch\n",
    "        correct_total += (torch.argmax(y_hat, axis=1) == y).sum()\n",
    "    loss_epoch.append(loss_total.item() / num_batches)\n",
    "    print(f'loss in epoch {epoch + 1}:{loss_total.item() / num_batches}')\n",
    "    correct_epoch.append(correct_total.item() / num_samples)\n",
    "    print(f'accuracy in epoch {epoch + 1}:{correct_total.item() / num_samples}')"
   ]
  },
  {
   "cell_type": "markdown",
   "id": "cb539f6c",
   "metadata": {},
   "source": [
    "### 测试"
   ]
  },
  {
   "cell_type": "code",
   "execution_count": 42,
   "id": "dab37faf",
   "metadata": {},
   "outputs": [],
   "source": [
    "correct_total = 0\n",
    "num_samples = 0\n",
    "for X, y in test_iter:\n",
    "    y_hat = net(X)\n",
    "    loss_batch = loss(y_hat, y)\n",
    "    correct_total += (torch.argmax(y_hat, axis=1) == y).sum()\n",
    "    num_samples += len(y)\n",
    "accuracy = correct_total / num_samples"
   ]
  },
  {
   "cell_type": "code",
   "execution_count": 44,
   "id": "5404b971",
   "metadata": {},
   "outputs": [
    {
     "data": {
      "text/plain": [
       "0.84170001745224"
      ]
     },
     "execution_count": 44,
     "metadata": {},
     "output_type": "execute_result"
    }
   ],
   "source": [
    "accuracy.item()"
   ]
  },
  {
   "cell_type": "markdown",
   "id": "f787d73c",
   "metadata": {},
   "source": [
    "## 简洁实现"
   ]
  },
  {
   "cell_type": "markdown",
   "id": "0d4d757e",
   "metadata": {},
   "source": [
    "### 模型定义与训练"
   ]
  },
  {
   "cell_type": "code",
   "execution_count": 48,
   "id": "7f884061",
   "metadata": {},
   "outputs": [],
   "source": [
    "net = nn.Sequential(nn.Flatten(),\n",
    "        nn.Linear(784, 256),\n",
    "        nn.ReLU(),\n",
    "        # 在第一个全连接层之后添加一个dropout层\n",
    "        nn.Dropout(dropout1),\n",
    "        nn.Linear(256, 256),\n",
    "        nn.ReLU(),\n",
    "        # 在第二个全连接层之后添加一个dropout层\n",
    "        nn.Dropout(dropout2),\n",
    "        nn.Linear(256, 10))\n",
    "\n",
    "def init_weights(m):\n",
    "    if type(m) == nn.Linear:\n",
    "        nn.init.normal_(m.weight, std=0.01)\n",
    "\n",
    "net.apply(init_weights);"
   ]
  },
  {
   "cell_type": "code",
   "execution_count": 49,
   "id": "af2634f2",
   "metadata": {},
   "outputs": [],
   "source": [
    "loss = nn.CrossEntropyLoss()\n",
    "optimizer = torch.optim.SGD(net.parameters(), lr=0.5)"
   ]
  },
  {
   "cell_type": "code",
   "execution_count": 50,
   "id": "7f5f9a5a",
   "metadata": {},
   "outputs": [
    {
     "name": "stdout",
     "output_type": "stream",
     "text": [
      "loss in epoch 1:1.0829404790350732\n",
      "accuracy in epoch 1:0.5761166666666667\n",
      "loss in epoch 2:0.5645033816073803\n",
      "accuracy in epoch 2:0.7901\n",
      "loss in epoch 3:0.4791814276512633\n",
      "accuracy in epoch 3:0.8231666666666667\n",
      "loss in epoch 4:0.43804438164893617\n",
      "accuracy in epoch 4:0.8388\n",
      "loss in epoch 5:0.40812079247007976\n",
      "accuracy in epoch 5:0.8501666666666666\n",
      "loss in epoch 6:0.39328726910530254\n",
      "accuracy in epoch 6:0.8551333333333333\n",
      "loss in epoch 7:0.37125438933676863\n",
      "accuracy in epoch 7:0.8632666666666666\n",
      "loss in epoch 8:0.35385342861743685\n",
      "accuracy in epoch 8:0.8707833333333334\n",
      "loss in epoch 9:0.35049607297207447\n",
      "accuracy in epoch 9:0.8709166666666667\n",
      "loss in epoch 10:0.33967018939079124\n",
      "accuracy in epoch 10:0.8751\n"
     ]
    }
   ],
   "source": [
    "num_epochs = 10\n",
    "loss_epoch = []  # 分别记录10个epoch的交叉熵损失\n",
    "correct_epoch = []  # 分别记录10个epoch分类精度\n",
    "for epoch in range(num_epochs):\n",
    "    num_samples = 0\n",
    "    num_batches = 0\n",
    "    loss_total = 0\n",
    "    correct_total = 0 \n",
    "    for X ,y in train_iter:\n",
    "        y_hat = net(X)\n",
    "        loss_batch = loss(y_hat, y)\n",
    "        optimizer.zero_grad()\n",
    "        loss_batch.backward()\n",
    "        optimizer.step()\n",
    "        \n",
    "        num_samples += len(y)\n",
    "        num_batches += 1\n",
    "        loss_total += loss_batch\n",
    "        correct_total += (torch.argmax(y_hat, axis=1) == y).sum()\n",
    "    loss_epoch.append(loss_total.item() / num_batches)\n",
    "    print(f'loss in epoch {epoch + 1}:{loss_total.item() / num_batches}')\n",
    "    correct_epoch.append(correct_total.item() / num_samples)\n",
    "    print(f'accuracy in epoch {epoch + 1}:{correct_total.item() / num_samples}')"
   ]
  },
  {
   "cell_type": "markdown",
   "id": "1f33f35d",
   "metadata": {},
   "source": [
    "### 测试"
   ]
  },
  {
   "cell_type": "code",
   "execution_count": 51,
   "id": "f4efaf10",
   "metadata": {},
   "outputs": [],
   "source": [
    "correct_total = 0\n",
    "num_samples = 0\n",
    "for X, y in test_iter:\n",
    "    y_hat = net(X)\n",
    "    loss_batch = loss(y_hat, y)\n",
    "    correct_total += (torch.argmax(y_hat, axis=1) == y).sum()\n",
    "    num_samples += len(y)\n",
    "accuracy = correct_total / num_samples"
   ]
  },
  {
   "cell_type": "code",
   "execution_count": 52,
   "id": "d4df4d01",
   "metadata": {},
   "outputs": [
    {
     "data": {
      "text/plain": [
       "tensor(0.8559)"
      ]
     },
     "execution_count": 52,
     "metadata": {},
     "output_type": "execute_result"
    }
   ],
   "source": [
    "accuracy"
   ]
  },
  {
   "cell_type": "code",
   "execution_count": null,
   "id": "752792d6",
   "metadata": {},
   "outputs": [],
   "source": []
  }
 ],
 "metadata": {
  "kernelspec": {
   "display_name": "pytorch",
   "language": "python",
   "name": "pytorch"
  },
  "language_info": {
   "codemirror_mode": {
    "name": "ipython",
    "version": 3
   },
   "file_extension": ".py",
   "mimetype": "text/x-python",
   "name": "python",
   "nbconvert_exporter": "python",
   "pygments_lexer": "ipython3",
   "version": "3.8.13"
  }
 },
 "nbformat": 4,
 "nbformat_minor": 5
}
