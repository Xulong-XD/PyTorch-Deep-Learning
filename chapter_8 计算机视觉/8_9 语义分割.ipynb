{
 "cells": [
  {
   "cell_type": "markdown",
   "id": "773cba90",
   "metadata": {},
   "source": [
    "# 语义分割\n",
    "*语义分割*（semantic segmentation）重点关注于**如何将图像分割成属于不同语义类别的区域**。与目标检测不同，语义分割可以识别并理解图像中每一个像素的内容：**其语义区域的标注和预测是像素级的**。:numref:`fig_segmentation`展示了语义分割中图像有关狗、猫和背景的标签。与目标检测相比，语义分割标注的像素级的边框显然更加精细。\n",
    "\n",
    "![语义分割中图像有关狗、猫和背景的标签](./segmentation.svg)\n",
    ":label:`fig_segmentation`\n",
    "\n",
    "计算机视觉领域还有2个与语义分割相似的重要问题，即*图像分割*（image segmentation）和*实例分割*（instance segmentation）。\n",
    "我们在这里将它们同语义分割简单区分一下。\n",
    "\n",
    "* *图像分割*：将图像划分为若干组成区域，这类问题的方法通常利用图像中像素之间的相关性。它在训练时不需要有关图像像素的标签信息，在预测时也无法保证分割出的区域具有我们希望得到的语义。以 :numref:`fig_segmentation`中的图像作为输入，图像分割可能会将狗分为两个区域：一个覆盖以黑色为主的嘴和眼睛，另一个覆盖以黄色为主的其余部分身体。\n",
    "* *实例分割*：也叫*同时检测并分割*（simultaneous detection and segmentation），它研究如何识别图像中各个目标实例的像素级区域。与语义分割不同，实例分割不仅需要区分语义，还要区分不同的目标实例。例如，如果图像中有两条狗，则实例分割需要区分像素属于的两条狗中的哪一条。"
   ]
  },
  {
   "cell_type": "markdown",
   "id": "9abc875d",
   "metadata": {},
   "source": [
    "# Pascal VOC2012语义分割数据集"
   ]
  },
  {
   "cell_type": "markdown",
   "id": "499393b8",
   "metadata": {},
   "source": [
    "[**最重要的语义分割数据集之一是[Pascal VOC2012](http://host.robots.ox.ac.uk/pascal/VOC/voc2012/)。**]\n",
    "\n",
    "下载地址：http://d2l-data.s3-accelerate.amazonaws.com/VOCtrainval_11-May-2012.tar\n",
    "\n",
    "下面我们深入了解一下这个数据集。\n",
    "\n"
   ]
  },
  {
   "cell_type": "code",
   "execution_count": 1,
   "id": "a9876a6b",
   "metadata": {},
   "outputs": [],
   "source": [
    "%matplotlib inline\n",
    "import os\n",
    "import torch\n",
    "import torchvision"
   ]
  },
  {
   "cell_type": "code",
   "execution_count": null,
   "id": "0385fa85",
   "metadata": {},
   "outputs": [],
   "source": []
  }
 ],
 "metadata": {
  "kernelspec": {
   "display_name": "pytorch",
   "language": "python",
   "name": "pytorch"
  },
  "language_info": {
   "codemirror_mode": {
    "name": "ipython",
    "version": 3
   },
   "file_extension": ".py",
   "mimetype": "text/x-python",
   "name": "python",
   "nbconvert_exporter": "python",
   "pygments_lexer": "ipython3",
   "version": "3.8.13"
  }
 },
 "nbformat": 4,
 "nbformat_minor": 5
}
