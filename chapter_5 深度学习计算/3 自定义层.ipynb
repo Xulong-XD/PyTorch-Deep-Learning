{
 "cells": [
  {
   "cell_type": "markdown",
   "id": "78b50d53",
   "metadata": {},
   "source": [
    "# 自定义层\n",
    "深度学习成功背后的一个因素是神经网络的灵活性： 我们可以用创造性的方式组合不同的层，从而设计出适用于各种任务的架构。 在一些情况下，所需的层在深度学习框架中并不存在，这时就需要自定义层。本节将介绍如何构建自定义层。\n",
    "## 不带参数的层\n",
    "首先我们构造一个没有任何参数的自定义层`CenteredLayer`，它要从其输入减去均值。要构建它，我们只需继承基础层类并实现前向传播功能。"
   ]
  },
  {
   "cell_type": "code",
   "execution_count": 39,
   "id": "68908d8f",
   "metadata": {},
   "outputs": [],
   "source": [
    "import torch\n",
    "import torch.nn as nn\n",
    "import torch.nn.functional as F"
   ]
  },
  {
   "cell_type": "code",
   "execution_count": 32,
   "id": "f36e10df",
   "metadata": {},
   "outputs": [],
   "source": [
    "class CenteredLayer(nn.Module):\n",
    "    def __init__(self):\n",
    "        super().__init__()\n",
    "    \n",
    "    def forward(self, X):\n",
    "        X = X - X.mean()\n",
    "        return X"
   ]
  },
  {
   "cell_type": "code",
   "execution_count": 28,
   "id": "3b607a62",
   "metadata": {},
   "outputs": [],
   "source": [
    "X = torch.normal(0, 0.1, size=(4, 4))"
   ]
  },
  {
   "cell_type": "code",
   "execution_count": 33,
   "id": "891f4b71",
   "metadata": {},
   "outputs": [],
   "source": [
    "layer = CenteredLayer()"
   ]
  },
  {
   "cell_type": "code",
   "execution_count": 34,
   "id": "f6e692d0",
   "metadata": {},
   "outputs": [
    {
     "data": {
      "text/plain": [
       "tensor([[ 0.0224, -0.0551,  0.0648, -0.0272],\n",
       "        [-0.0908,  0.0208, -0.1151,  0.0659],\n",
       "        [-0.0240,  0.0608,  0.1003,  0.0536],\n",
       "        [ 0.0923, -0.0265, -0.0500, -0.0923]])"
      ]
     },
     "execution_count": 34,
     "metadata": {},
     "output_type": "execute_result"
    }
   ],
   "source": [
    "layer(X)"
   ]
  },
  {
   "cell_type": "markdown",
   "id": "be6f1633",
   "metadata": {},
   "source": [
    "现在，我们可以将该层作为组件合并到更复杂的模型中。"
   ]
  },
  {
   "cell_type": "code",
   "execution_count": 36,
   "id": "12bd52dc",
   "metadata": {},
   "outputs": [],
   "source": [
    "net = nn.Sequential(nn.Linear(8, 128), CenteredLayer())"
   ]
  },
  {
   "cell_type": "markdown",
   "id": "b7119597",
   "metadata": {},
   "source": [
    "作为额外的健全性检查，我们可以在向该网络发送随机数据后，检查均值是否为0。\n",
    "由于我们处理的是浮点数，因为存储精度的原因，我们仍然可能会看到一个非常小的非零数"
   ]
  },
  {
   "cell_type": "code",
   "execution_count": 38,
   "id": "fc9b0642",
   "metadata": {},
   "outputs": [
    {
     "data": {
      "text/plain": [
       "tensor(-9.6043e-10, grad_fn=<MeanBackward0>)"
      ]
     },
     "execution_count": 38,
     "metadata": {},
     "output_type": "execute_result"
    }
   ],
   "source": [
    "Y = net(torch.rand(4, 8))\n",
    "Y.mean()"
   ]
  },
  {
   "cell_type": "markdown",
   "id": "9612c40a",
   "metadata": {},
   "source": [
    "## 带参数的层\n",
    "以上我们知道了如何定义简单的层，下面我们继续定义具有参数的层，\n",
    "这些参数可以通过训练进行调整。\n",
    "我们可以使用内置函数来创建参数，这些函数提供一些基本的管理功能。\n",
    "比如管理访问、初始化、共享、保存和加载模型参数。\n",
    "这样做的好处之一是：我们不需要为每个自定义层编写自定义的序列化程序。\n",
    "\n",
    "现在，让我们实现自定义版本的全连接层。\n",
    "回想一下，该层需要两个参数，一个用于表示权重，另一个用于表示偏置项。\n",
    "在此实现中，我们使用修正线性单元作为激活函数。\n",
    "该层需要输入参数：`in_units`和`units`，分别表示输入数和输出数。"
   ]
  },
  {
   "cell_type": "code",
   "execution_count": 40,
   "id": "6167aba3",
   "metadata": {},
   "outputs": [],
   "source": [
    "class MyLinear(nn.Module):\n",
    "    def __init__(self, in_units, units):\n",
    "        super().__init__()\n",
    "        self.weight = nn.Parameter(torch.randn(in_units, units))\n",
    "        self.bias = nn.Parameter(torch.randn(units,))\n",
    "    \n",
    "    def forward(self, X):\n",
    "        linear = torch.matmul(X, self.weight.data) + self.bias.data\n",
    "        return F.relu(linear)"
   ]
  },
  {
   "cell_type": "markdown",
   "id": "2e815bdf",
   "metadata": {},
   "source": [
    "接下来，我们实例化MyLinear类并访问其模型参数。"
   ]
  },
  {
   "cell_type": "code",
   "execution_count": 42,
   "id": "1dbeb9da",
   "metadata": {},
   "outputs": [
    {
     "data": {
      "text/plain": [
       "(tensor([[-1.3153, -0.1180,  0.7370],\n",
       "         [ 1.4944,  0.3203,  0.8976],\n",
       "         [-1.2800, -1.4962, -0.0744],\n",
       "         [-0.9668, -1.6343, -0.9816],\n",
       "         [ 1.0671,  0.6967, -0.9777]]),\n",
       " tensor([-1.4727, -0.4079,  0.1799]))"
      ]
     },
     "execution_count": 42,
     "metadata": {},
     "output_type": "execute_result"
    }
   ],
   "source": [
    "linear = MyLinear(5, 3)\n",
    "linear.weight.data, linear.bias.data"
   ]
  },
  {
   "cell_type": "markdown",
   "id": "674ee408",
   "metadata": {},
   "source": [
    "我们也可以使用自定义层直接执行前向传播计算："
   ]
  },
  {
   "cell_type": "code",
   "execution_count": 44,
   "id": "2137d0d6",
   "metadata": {},
   "outputs": [
    {
     "data": {
      "text/plain": [
       "tensor([[0.0000, 3.5314, 0.0000],\n",
       "        [0.2009, 0.0447, 0.0000],\n",
       "        [0.5489, 0.0000, 2.1578],\n",
       "        [1.8162, 2.3333, 0.5779],\n",
       "        [0.0000, 0.0000, 0.9124],\n",
       "        [0.0000, 0.0000, 0.0000],\n",
       "        [0.0000, 0.0000, 0.6048],\n",
       "        [0.7073, 2.0737, 1.6680],\n",
       "        [0.0000, 0.0000, 0.0000],\n",
       "        [0.3493, 0.8240, 2.3748]])"
      ]
     },
     "execution_count": 44,
     "metadata": {},
     "output_type": "execute_result"
    }
   ],
   "source": [
    "X = torch.randn(10, 5)\n",
    "linear(X)"
   ]
  },
  {
   "cell_type": "markdown",
   "id": "bc38d844",
   "metadata": {},
   "source": [
    "我们还可以(使用自定义层构建模型)，就像使用内置的全连接层一样使用自定义层。"
   ]
  },
  {
   "cell_type": "code",
   "execution_count": 46,
   "id": "7d950bf9",
   "metadata": {},
   "outputs": [
    {
     "data": {
      "text/plain": [
       "tensor([[2.4212],\n",
       "        [0.0000]])"
      ]
     },
     "execution_count": 46,
     "metadata": {},
     "output_type": "execute_result"
    }
   ],
   "source": [
    "net = nn.Sequential(MyLinear(64, 8), MyLinear(8, 1))\n",
    "net(torch.randn(2, 64))"
   ]
  },
  {
   "cell_type": "markdown",
   "id": "b0c8f330",
   "metadata": {},
   "source": [
    "## 小结\n",
    "* 我们可以通过基本层类设计自定义层。这允许我们定义灵活的新层，其行为与深度学习框架中的任何现有层不同。\n",
    "* 在自定义层定义完成后，我们就可以在任意环境和网络架构中调用该自定义层。\n",
    "* 层可以有局部参数，这些参数可以通过内置函数创建。"
   ]
  },
  {
   "cell_type": "code",
   "execution_count": null,
   "id": "9007299c",
   "metadata": {},
   "outputs": [],
   "source": []
  }
 ],
 "metadata": {
  "kernelspec": {
   "display_name": "pytorch",
   "language": "python",
   "name": "pytorch"
  },
  "language_info": {
   "codemirror_mode": {
    "name": "ipython",
    "version": 3
   },
   "file_extension": ".py",
   "mimetype": "text/x-python",
   "name": "python",
   "nbconvert_exporter": "python",
   "pygments_lexer": "ipython3",
   "version": "3.8.13"
  }
 },
 "nbformat": 4,
 "nbformat_minor": 5
}
