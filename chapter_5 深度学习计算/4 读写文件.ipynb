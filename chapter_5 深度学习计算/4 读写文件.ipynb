{
 "cells": [
  {
   "cell_type": "markdown",
   "id": "5aa104b1",
   "metadata": {},
   "source": [
    "# 读写文件\n",
    "到目前为止，我们介绍了如何处理数据，以及如何构建、训练和测试深度学习模型。然而，有时我们希望保存训练的模型， 以备将来在各种环境中使用（比如在部署中进行预测）。 此外，当运行一个耗时较长的训练过程时， 最佳的做法是定期保存中间结果， 以确保在服务器电源被不小心断掉时，我们不会损失几天的计算结果。 因此，现在是时候学习如何加载和存储权重向量和整个模型了。"
   ]
  },
  {
   "cell_type": "markdown",
   "id": "de562681",
   "metadata": {},
   "source": [
    "## 加载和保存张量\n",
    "对于单个张量，我们可以直接调用`load`和`save`函数分别读写它们。这两个函数都要求我们提供一个名称，`save`要求将要保存的变量作为输入。"
   ]
  },
  {
   "cell_type": "code",
   "execution_count": 2,
   "id": "02275d9b",
   "metadata": {},
   "outputs": [],
   "source": [
    "import torch\n",
    "from torch import nn\n",
    "from torch.nn import functional as F\n",
    "\n",
    "x = torch.arange(4)\n",
    "\n",
    "# x为待保存的变量，'x-file'为文件名\n",
    "torch.save(x, 'x-file')"
   ]
  },
  {
   "cell_type": "markdown",
   "id": "e62075bc",
   "metadata": {},
   "source": [
    "现在我们可以将存储在文件中的数据读回内存："
   ]
  },
  {
   "cell_type": "code",
   "execution_count": 3,
   "id": "7255eacf",
   "metadata": {},
   "outputs": [
    {
     "data": {
      "text/plain": [
       "tensor([0, 1, 2, 3])"
      ]
     },
     "execution_count": 3,
     "metadata": {},
     "output_type": "execute_result"
    }
   ],
   "source": [
    "x2 = torch.load('x-file')\n",
    "x2"
   ]
  },
  {
   "cell_type": "markdown",
   "id": "d72f7465",
   "metadata": {},
   "source": [
    "我们也可以存储一个张量列表，然后把它们读回内存："
   ]
  },
  {
   "cell_type": "code",
   "execution_count": 5,
   "id": "868a92a0",
   "metadata": {},
   "outputs": [
    {
     "data": {
      "text/plain": [
       "(tensor([0, 1, 2, 3]), tensor([0., 0., 0., 0.]))"
      ]
     },
     "execution_count": 5,
     "metadata": {},
     "output_type": "execute_result"
    }
   ],
   "source": [
    "y = torch.zeros(4)\n",
    "torch.save([x, y], 'x-files')\n",
    "x2, y2 = torch.load('x-files')\n",
    "x2, y2"
   ]
  },
  {
   "cell_type": "markdown",
   "id": "c679f6b5",
   "metadata": {},
   "source": [
    "我们甚至可以(**写入或读取从字符串映射到张量的字典**)。\n",
    "当我们要读取或写入模型中的所有权重时，这很方便。"
   ]
  },
  {
   "cell_type": "code",
   "execution_count": 6,
   "id": "2152cc4f",
   "metadata": {},
   "outputs": [
    {
     "data": {
      "text/plain": [
       "{'x': tensor([0, 1, 2, 3]), 'y': tensor([0., 0., 0., 0.])}"
      ]
     },
     "execution_count": 6,
     "metadata": {},
     "output_type": "execute_result"
    }
   ],
   "source": [
    "mydict = {'x': x, 'y': y}\n",
    "torch.save(mydict, 'mydict')\n",
    "mydict2 = torch.load('mydict')\n",
    "mydict2"
   ]
  },
  {
   "cell_type": "markdown",
   "id": "2104754a",
   "metadata": {},
   "source": [
    "## 加载和保存模型参数\n",
    "保存单个权重向量（或其他张量）确实有用， 但是如果我们想保存整个模型，并在以后加载它们， 单独保存每个向量则会变得很麻烦。 毕竟，我们可能有数百个参数散布在各处。 因此，深度学习框架提供了内置函数来保存和加载整个网络。 需要注意的一个重要细节是，这将保存模型的参数而不是保存整个模型。 例如，如果我们有一个3层多层感知机，我们需要单独指定架构。 因为模型本身可以包含任意代码，所以模型本身难以序列化。 因此，为了恢复模型，我们需要用代码生成架构， 然后从磁盘加载参数。 让我们从熟悉的多层感知机开始尝试一下。"
   ]
  },
  {
   "cell_type": "code",
   "execution_count": 7,
   "id": "e80e1897",
   "metadata": {},
   "outputs": [],
   "source": [
    "class MLP(nn.Module):\n",
    "    def __init__(self):\n",
    "        super().__init__()\n",
    "        self.hidden = nn.Linear(20, 256)\n",
    "        self.output = nn.Linear(256, 10)\n",
    "\n",
    "    def forward(self, x):\n",
    "        return self.output(F.relu(self.hidden(x)))\n",
    "\n",
    "net = MLP()\n",
    "X = torch.randn(size=(2, 20))\n",
    "Y = net(X)"
   ]
  },
  {
   "cell_type": "markdown",
   "id": "219c882a",
   "metadata": {},
   "source": [
    "接下来，我们将模型的参数存储在一个叫做‘mlp.params’的文件中："
   ]
  },
  {
   "cell_type": "code",
   "execution_count": 9,
   "id": "e27dd809",
   "metadata": {},
   "outputs": [],
   "source": [
    "torch.save(net.state_dict(), 'mlp.params')"
   ]
  },
  {
   "cell_type": "markdown",
   "id": "7254e9a8",
   "metadata": {},
   "source": [
    "为了加载模型，我们可以先实例化一个原始多层感知机模型，然后利用`load_state_dict`直接读取文件中存储的参数。"
   ]
  },
  {
   "cell_type": "code",
   "execution_count": 10,
   "id": "effc85cd",
   "metadata": {},
   "outputs": [
    {
     "data": {
      "text/plain": [
       "<All keys matched successfully>"
      ]
     },
     "execution_count": 10,
     "metadata": {},
     "output_type": "execute_result"
    }
   ],
   "source": [
    "net_recovery = MLP()\n",
    "net_recovery.load_state_dict(torch.load('mlp.params'))"
   ]
  },
  {
   "cell_type": "markdown",
   "id": "3033ede2",
   "metadata": {},
   "source": [
    "测试一下两个模型的预测结果是否相同："
   ]
  },
  {
   "cell_type": "code",
   "execution_count": 12,
   "id": "d3ac40e9",
   "metadata": {},
   "outputs": [
    {
     "data": {
      "text/plain": [
       "tensor([[True, True, True, True, True, True, True, True, True, True],\n",
       "        [True, True, True, True, True, True, True, True, True, True]])"
      ]
     },
     "execution_count": 12,
     "metadata": {},
     "output_type": "execute_result"
    }
   ],
   "source": [
    "net(X) == net_recovery(X)"
   ]
  },
  {
   "cell_type": "markdown",
   "id": "8aa035e4",
   "metadata": {},
   "source": [
    "## 小结\n",
    "* `torch.save`和`torch.load`可用于张量对象的文件读写\n",
    "* 通过保存和读取模型的状态字典`state_dict()`来实现模型全部参数的读写\n",
    "* 模型架构直接通过实例化原始模型即可"
   ]
  },
  {
   "cell_type": "code",
   "execution_count": null,
   "id": "ed815579",
   "metadata": {},
   "outputs": [],
   "source": []
  }
 ],
 "metadata": {
  "kernelspec": {
   "display_name": "pytorch",
   "language": "python",
   "name": "pytorch"
  },
  "language_info": {
   "codemirror_mode": {
    "name": "ipython",
    "version": 3
   },
   "file_extension": ".py",
   "mimetype": "text/x-python",
   "name": "python",
   "nbconvert_exporter": "python",
   "pygments_lexer": "ipython3",
   "version": "3.8.13"
  }
 },
 "nbformat": 4,
 "nbformat_minor": 5
}
