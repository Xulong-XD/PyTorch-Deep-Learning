{
 "cells": [
  {
   "cell_type": "markdown",
   "id": "8b556baa",
   "metadata": {},
   "source": [
    "# 2.4 自动微分\n",
    "求导是几乎所有深度学习优化算法的关键步骤。 虽然求导的计算很简单，只需要一些基本的微积分。 但对于复杂的模型，手工进行更新是一件很痛苦的事情（而且经常容易出错）。深度学习框架通过自动计算导数，即自动微分（automatic differentiation）来加快求导。 实际中，根据我们设计的模型，系统会构建一个计算图（computational graph）， 来跟踪计算是哪些数据通过哪些操作组合起来产生输出。 自动微分使系统能够随后反向传播梯度。 这里，反向传播（backpropagate）意味着跟踪整个计算图，填充关于每个参数的偏导数。\n",
    "\n",
    "## 2.4.1求导的几种情况\n",
    "### 2.4.1.1 标量导数\n",
    "![](./图片4-1标量导数.jpg)\n",
    "### 2.4.1.2 亚导数\n",
    "![](./图片4-2亚导数.jpg)\n",
    "### 2.4.1.3 梯度：将导数拓展到向量\n",
    "![](./图片4-3梯度.jpg)\n",
    "### 2.4.1.4 拓展到矩阵\n",
    "![](./图片4-4矩阵求导.jpg)"
   ]
  },
  {
   "cell_type": "markdown",
   "id": "7bef8f48",
   "metadata": {},
   "source": [
    "# 2.4.2 向量链式法则\n",
    "![](./图片4-5向量链式法则.jpg)\n",
    "\n",
    "**例1**：\n",
    "![](./图片4-5向量链式法则例子1.jpg)\n",
    "\n",
    "**例2**\n",
    "![](./图片4-5向量链式法则例子2.jpg)"
   ]
  },
  {
   "cell_type": "markdown",
   "id": "4b470423",
   "metadata": {},
   "source": [
    "## 2.4.3 自动求导\n",
    "自动求导计算一个函数在指定值上的导数，和符号求导、数值求导有一定区别。它依赖于计算图：\n",
    "![](./图片4-6计算图.jpg)"
   ]
  },
  {
   "cell_type": "markdown",
   "id": "7847f856",
   "metadata": {},
   "source": [
    "自动求导的两种模式：正向累积与反向累积：\n",
    "![](./图片4-7自动求导的两种模式.jpg)\n",
    "\n",
    "一个例子：\n",
    "![](./图片4-8自动求导的两种模式例子.jpg)\n",
    "\n",
    "反向累积复杂度分析：\n",
    "* 计算复杂度：O(n),n是操作子个数\n",
    "    * 通常正向累计和反向累积的代价类似\n",
    "* 内存复杂度：O(n)，因为要存储正向的所有中间结果\n",
    "\n",
    "反向累积复杂度分析：\n",
    "* 计算复杂度：O(n)计算一个变量的梯度\n",
    "* 内存复杂度：O(1)\n"
   ]
  },
  {
   "cell_type": "markdown",
   "id": "e44b707c",
   "metadata": {},
   "source": [
    "# 2.4.4 自动微分代码实现\n",
    "## 一个简单的例子\n",
    "\n",
    "作为一个演示例子，(**假设我们想对函数$y=2\\mathbf{x}^{\\top}\\mathbf{x}$关于列向量$\\mathbf{x}$求导**)。\n",
    "首先，我们创建变量`x`并为其分配一个初始值。\n"
   ]
  },
  {
   "cell_type": "code",
   "execution_count": 22,
   "id": "5fc7de07",
   "metadata": {},
   "outputs": [
    {
     "data": {
      "text/plain": [
       "tensor([0., 1., 2., 3.])"
      ]
     },
     "execution_count": 22,
     "metadata": {},
     "output_type": "execute_result"
    }
   ],
   "source": [
    "import  torch\n",
    "import warnings \n",
    "warnings.filterwarnings('ignore')\n",
    "x = torch.arange(4.0)\n",
    "x"
   ]
  },
  {
   "cell_type": "markdown",
   "id": "31d3ebfe",
   "metadata": {},
   "source": [
    "[**在我们计算$y$关于$\\mathbf{x}$的梯度之前，我们需要一个地方来存储梯度。**]\n",
    "重要的是，我们不会在每次对一个参数求导时都分配新的内存。\n",
    "因为我们经常会成千上万次地更新相同的参数，每次都分配新的内存可能很快就会将内存耗尽。\n",
    "注意，一个标量函数关于向量$\\mathbf{x}$的梯度是向量，并且与$\\mathbf{x}$具有相同的形状。\n"
   ]
  },
  {
   "cell_type": "code",
   "execution_count": 6,
   "id": "2998788e",
   "metadata": {},
   "outputs": [],
   "source": [
    "x.requires_grad_(True)  # 等价于 x = torch.arange(4.0, requires_grad=True)\n",
    "x.grad"
   ]
  },
  {
   "cell_type": "markdown",
   "id": "582b632c",
   "metadata": {},
   "source": [
    "现在我们计算y:"
   ]
  },
  {
   "cell_type": "code",
   "execution_count": 7,
   "id": "e7e387f6",
   "metadata": {},
   "outputs": [
    {
     "data": {
      "text/plain": [
       "tensor(28., grad_fn=<MulBackward0>)"
      ]
     },
     "execution_count": 7,
     "metadata": {},
     "output_type": "execute_result"
    }
   ],
   "source": [
    "y = 2 * torch.dot(x, x)\n",
    "y"
   ]
  },
  {
   "cell_type": "markdown",
   "id": "c36d050d",
   "metadata": {},
   "source": [
    "`x`是一个长度为4的向量，计算`x`和`x`的点积，得到了我们赋值给`y`的标量输出。\n",
    "接下来，我们[**通过调用反向传播函数来自动计算`y`关于`x`每个分量的梯度**]，并打印这些梯度。\n"
   ]
  },
  {
   "cell_type": "code",
   "execution_count": 9,
   "id": "e77987e9",
   "metadata": {},
   "outputs": [
    {
     "data": {
      "text/plain": [
       "tensor([ 0.,  4.,  8., 12.])"
      ]
     },
     "execution_count": 9,
     "metadata": {},
     "output_type": "execute_result"
    }
   ],
   "source": [
    "y.backward()\n",
    "x.grad"
   ]
  },
  {
   "cell_type": "markdown",
   "id": "0260a3c9",
   "metadata": {},
   "source": [
    "[**现在让我们计算`x`的另一个函数。**]，注意在默认情况下，PyTorch会累积梯度，我们需要清除之前的值"
   ]
  },
  {
   "cell_type": "code",
   "execution_count": 10,
   "id": "6b6eefd3",
   "metadata": {},
   "outputs": [
    {
     "data": {
      "text/plain": [
       "tensor([1., 1., 1., 1.])"
      ]
     },
     "execution_count": 10,
     "metadata": {},
     "output_type": "execute_result"
    }
   ],
   "source": [
    "x.grad.zero_()\n",
    "y = x.sum()\n",
    "y.backward()\n",
    "x.grad"
   ]
  },
  {
   "cell_type": "markdown",
   "id": "6fddea1c",
   "metadata": {},
   "source": [
    "## 非标量变量的反向传播\n",
    "当`y`不是标量时，向量`y`关于向量`x`的导数的最自然解释是一个矩阵。\n",
    "对于高阶和高维的`y`和`x`，求导的结果可以是一个高阶张量。\n",
    "\n",
    "然而，虽然这些更奇特的对象确实出现在高级机器学习中（包括[**深度学习中**]），\n",
    "但当我们调用向量的反向计算时，我们通常会试图计算一批训练样本中每个组成部分的损失函数的导数。\n",
    "这里(**，我们的目的不是计算微分矩阵，而是单独计算批量中每个样本的偏导数之和。**)"
   ]
  },
  {
   "cell_type": "code",
   "execution_count": 12,
   "id": "7bd674db",
   "metadata": {},
   "outputs": [
    {
     "data": {
      "text/plain": [
       "tensor([0., 2., 4., 6.])"
      ]
     },
     "execution_count": 12,
     "metadata": {},
     "output_type": "execute_result"
    }
   ],
   "source": [
    "# 对非标量调用backward需要传入一个gradient参数，该参数指定\n",
    "# 微分函数关于self的梯度。在我们的例子中，我们只想求偏导数的和，\n",
    "# 所以传递一个1的梯度是合适的\n",
    "x.grad.zero_()\n",
    "y = x * x # 对应位置相乘，y是一个向量\n",
    "y.sum().backward()\n",
    "x.grad"
   ]
  },
  {
   "cell_type": "markdown",
   "id": "8882ca93",
   "metadata": {},
   "source": [
    "## 分离计算\n",
    "时，我们希望[**将某些计算移动到记录的计算图之外**]。\n",
    "例如，假设`y`是作为`x`的函数计算的，而`z`则是作为`y`和`x`的函数计算的。\n",
    "想象一下，我们想计算`z`关于`x`的梯度，但由于某种原因，我们希望将`y`视为一个常数，\n",
    "并且只考虑到`x`在`y`被计算后发挥的作用。\n",
    "\n",
    "在这里，我们可以分离`y`来返回一个新变量`u`，该变量与`y`具有相同的值，\n",
    "但丢弃计算图中如何计算`y`的任何信息。\n",
    "换句话说，梯度不会向后流经`u`到`x`。\n",
    "因此，下面的反向传播函数计算`z=u*x`关于`x`的偏导数，同时将`u`作为常数处理，\n",
    "而不是`z=x*x*x`关于`x`的偏导数。"
   ]
  },
  {
   "cell_type": "code",
   "execution_count": 13,
   "id": "427355b8",
   "metadata": {},
   "outputs": [
    {
     "data": {
      "text/plain": [
       "tensor([0., 1., 4., 9.])"
      ]
     },
     "execution_count": 13,
     "metadata": {},
     "output_type": "execute_result"
    }
   ],
   "source": [
    "x.grad.zero_()\n",
    "y = x * x\n",
    "u = y.detach()\n",
    "z = u * x\n",
    "z.sum().backward()\n",
    "x.grad"
   ]
  },
  {
   "cell_type": "code",
   "execution_count": 14,
   "id": "cdf8f14b",
   "metadata": {},
   "outputs": [
    {
     "data": {
      "text/plain": [
       "tensor([0., 2., 4., 6.])"
      ]
     },
     "execution_count": 14,
     "metadata": {},
     "output_type": "execute_result"
    }
   ],
   "source": [
    "x.grad.zero_()\n",
    "y.sum().backward()\n",
    "x.grad"
   ]
  },
  {
   "cell_type": "markdown",
   "id": "e18109d3",
   "metadata": {},
   "source": [
    "## Python控制流的梯度计算\n",
    "使用自动微分的一个好处是：\n",
    "[**即使构建函数的计算图需要通过Python控制流（例如，条件、循环或任意函数调用），我们仍然可以计算得到的变量的梯度**]。\n",
    "在下面的代码中，`while`循环的迭代次数和`if`语句的结果都取决于输入`a`的值。\n"
   ]
  },
  {
   "cell_type": "code",
   "execution_count": 15,
   "id": "d1ba5c01",
   "metadata": {},
   "outputs": [],
   "source": [
    "def f(a):\n",
    "    b = a * 2\n",
    "    while b.norm() < 1000:\n",
    "        b = b * 2\n",
    "    if b.sum() > 0:\n",
    "        c = b\n",
    "    else:\n",
    "        c = 100 * b\n",
    "    return c"
   ]
  },
  {
   "cell_type": "code",
   "execution_count": 21,
   "id": "9feef9b3",
   "metadata": {},
   "outputs": [
    {
     "data": {
      "text/plain": [
       "tensor(False)"
      ]
     },
     "execution_count": 21,
     "metadata": {},
     "output_type": "execute_result"
    }
   ],
   "source": [
    "a = torch.randn(size=(), requires_grad=True)\n",
    "d = f(a)\n",
    "d.backward()\n",
    "a.grad == d / a"
   ]
  },
  {
   "cell_type": "markdown",
   "id": "b6501736",
   "metadata": {},
   "source": [
    "## 小结\n",
    "深度学习框架可以自动计算导数：首先将梯度附加到想要对其计算导数的变量上，然后记录目标函数的计算，然后执行它的反向传播过程，然后访问得到梯度。"
   ]
  },
  {
   "cell_type": "code",
   "execution_count": null,
   "id": "7311d162",
   "metadata": {},
   "outputs": [],
   "source": []
  }
 ],
 "metadata": {
  "kernelspec": {
   "display_name": "pytorch",
   "language": "python",
   "name": "pytorch"
  },
  "language_info": {
   "codemirror_mode": {
    "name": "ipython",
    "version": 3
   },
   "file_extension": ".py",
   "mimetype": "text/x-python",
   "name": "python",
   "nbconvert_exporter": "python",
   "pygments_lexer": "ipython3",
   "version": "3.8.13"
  }
 },
 "nbformat": 4,
 "nbformat_minor": 5
}
